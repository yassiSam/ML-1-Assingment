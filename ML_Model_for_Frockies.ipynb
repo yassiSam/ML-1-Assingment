{
  "nbformat": 4,
  "nbformat_minor": 0,
  "metadata": {
    "colab": {
      "name": "ML Model for Frockies.ipynb",
      "provenance": [],
      "authorship_tag": "ABX9TyOw+KD5zHvStTblUlsC6Pz9",
      "include_colab_link": true
    },
    "kernelspec": {
      "name": "python3",
      "display_name": "Python 3"
    },
    "language_info": {
      "name": "python"
    }
  },
  "cells": [
    {
      "cell_type": "markdown",
      "metadata": {
        "id": "view-in-github",
        "colab_type": "text"
      },
      "source": [
        "<a href=\"https://colab.research.google.com/github/yassiSam/ML-1-Assingment/blob/main/ML_Model_for_Frockies.ipynb\" target=\"_parent\"><img src=\"https://colab.research.google.com/assets/colab-badge.svg\" alt=\"Open In Colab\"/></a>"
      ]
    },
    {
      "cell_type": "code",
      "metadata": {
        "id": "sdnm9IqQU6Jc"
      },
      "source": [
        "import pandas as pd\n",
        "import numpy as np\n",
        "from sklearn.neighbors import KNeighborsClassifier\n",
        "from sklearn.tree import DecisionTreeClassifier, plot_tree, export_graphviz\n",
        "from sklearn.linear_model import LogisticRegression\n",
        "from sklearn.model_selection import train_test_split\n",
        "from sklearn.metrics import f1_score, confusion_matrix, accuracy_score, precision_score, recall_score\n",
        "from sklearn.preprocessing import LabelEncoder, OneHotEncoder\n",
        "import graphviz"
      ],
      "execution_count": 3,
      "outputs": []
    },
    {
      "cell_type": "markdown",
      "metadata": {
        "id": "Vqtr8RudVUVL"
      },
      "source": [
        "# Data Inseption"
      ]
    },
    {
      "cell_type": "code",
      "metadata": {
        "id": "dUYA_8dEVKr1"
      },
      "source": [
        "df = pd.read_csv(\"ML_Project-Frockies-Extended.csv\")"
      ],
      "execution_count": 5,
      "outputs": []
    },
    {
      "cell_type": "code",
      "metadata": {
        "colab": {
          "base_uri": "https://localhost:8080/",
          "height": 294
        },
        "id": "zi2FhdVUVbxJ",
        "outputId": "c309bfbe-e1a2-42f4-bc57-284e04463af5"
      },
      "source": [
        "df.describe()"
      ],
      "execution_count": 7,
      "outputs": [
        {
          "output_type": "execute_result",
          "data": {
            "text/html": [
              "<div>\n",
              "<style scoped>\n",
              "    .dataframe tbody tr th:only-of-type {\n",
              "        vertical-align: middle;\n",
              "    }\n",
              "\n",
              "    .dataframe tbody tr th {\n",
              "        vertical-align: top;\n",
              "    }\n",
              "\n",
              "    .dataframe thead th {\n",
              "        text-align: right;\n",
              "    }\n",
              "</style>\n",
              "<table border=\"1\" class=\"dataframe\">\n",
              "  <thead>\n",
              "    <tr style=\"text-align: right;\">\n",
              "      <th></th>\n",
              "      <th>Discount Amount</th>\n",
              "      <th>Price</th>\n",
              "    </tr>\n",
              "  </thead>\n",
              "  <tbody>\n",
              "    <tr>\n",
              "      <th>count</th>\n",
              "      <td>500.000000</td>\n",
              "      <td>500.00000</td>\n",
              "    </tr>\n",
              "    <tr>\n",
              "      <th>mean</th>\n",
              "      <td>11.030000</td>\n",
              "      <td>1411.02000</td>\n",
              "    </tr>\n",
              "    <tr>\n",
              "      <th>std</th>\n",
              "      <td>8.980557</td>\n",
              "      <td>204.63066</td>\n",
              "    </tr>\n",
              "    <tr>\n",
              "      <th>min</th>\n",
              "      <td>0.000000</td>\n",
              "      <td>1100.00000</td>\n",
              "    </tr>\n",
              "    <tr>\n",
              "      <th>25%</th>\n",
              "      <td>0.000000</td>\n",
              "      <td>1250.00000</td>\n",
              "    </tr>\n",
              "    <tr>\n",
              "      <th>50%</th>\n",
              "      <td>15.000000</td>\n",
              "      <td>1400.00000</td>\n",
              "    </tr>\n",
              "    <tr>\n",
              "      <th>75%</th>\n",
              "      <td>20.000000</td>\n",
              "      <td>1550.00000</td>\n",
              "    </tr>\n",
              "    <tr>\n",
              "      <th>max</th>\n",
              "      <td>20.000000</td>\n",
              "      <td>1750.00000</td>\n",
              "    </tr>\n",
              "  </tbody>\n",
              "</table>\n",
              "</div>"
            ],
            "text/plain": [
              "       Discount Amount       Price\n",
              "count       500.000000   500.00000\n",
              "mean         11.030000  1411.02000\n",
              "std           8.980557   204.63066\n",
              "min           0.000000  1100.00000\n",
              "25%           0.000000  1250.00000\n",
              "50%          15.000000  1400.00000\n",
              "75%          20.000000  1550.00000\n",
              "max          20.000000  1750.00000"
            ]
          },
          "metadata": {
            "tags": []
          },
          "execution_count": 7
        }
      ]
    },
    {
      "cell_type": "code",
      "metadata": {
        "colab": {
          "base_uri": "https://localhost:8080/",
          "height": 448
        },
        "id": "Ju02fJy5Vezh",
        "outputId": "33285b2b-3c73-4f4a-d027-2e8c9df2bc58"
      },
      "source": [
        "df.head().transpose()"
      ],
      "execution_count": 8,
      "outputs": [
        {
          "output_type": "execute_result",
          "data": {
            "text/html": [
              "<div>\n",
              "<style scoped>\n",
              "    .dataframe tbody tr th:only-of-type {\n",
              "        vertical-align: middle;\n",
              "    }\n",
              "\n",
              "    .dataframe tbody tr th {\n",
              "        vertical-align: top;\n",
              "    }\n",
              "\n",
              "    .dataframe thead th {\n",
              "        text-align: right;\n",
              "    }\n",
              "</style>\n",
              "<table border=\"1\" class=\"dataframe\">\n",
              "  <thead>\n",
              "    <tr style=\"text-align: right;\">\n",
              "      <th></th>\n",
              "      <th>0</th>\n",
              "      <th>1</th>\n",
              "      <th>2</th>\n",
              "      <th>3</th>\n",
              "      <th>4</th>\n",
              "    </tr>\n",
              "  </thead>\n",
              "  <tbody>\n",
              "    <tr>\n",
              "      <th>Age range of customer</th>\n",
              "      <td>50-60</td>\n",
              "      <td>20-30</td>\n",
              "      <td>30-40</td>\n",
              "      <td>40-50</td>\n",
              "      <td>20-30</td>\n",
              "    </tr>\n",
              "    <tr>\n",
              "      <th>Color</th>\n",
              "      <td>Yellow</td>\n",
              "      <td>Green</td>\n",
              "      <td>Blue</td>\n",
              "      <td>Pink</td>\n",
              "      <td>Black</td>\n",
              "    </tr>\n",
              "    <tr>\n",
              "      <th>Material type</th>\n",
              "      <td>Cotton</td>\n",
              "      <td>Cotton</td>\n",
              "      <td>Denim</td>\n",
              "      <td>Cotton</td>\n",
              "      <td>Cotton</td>\n",
              "    </tr>\n",
              "    <tr>\n",
              "      <th>Discount Status</th>\n",
              "      <td>YES</td>\n",
              "      <td>YES</td>\n",
              "      <td>YES</td>\n",
              "      <td>YES</td>\n",
              "      <td>YES</td>\n",
              "    </tr>\n",
              "    <tr>\n",
              "      <th>Discount Amount</th>\n",
              "      <td>20</td>\n",
              "      <td>20</td>\n",
              "      <td>20</td>\n",
              "      <td>20</td>\n",
              "      <td>15</td>\n",
              "    </tr>\n",
              "    <tr>\n",
              "      <th>Price</th>\n",
              "      <td>1300</td>\n",
              "      <td>1400</td>\n",
              "      <td>1300</td>\n",
              "      <td>1100</td>\n",
              "      <td>1100</td>\n",
              "    </tr>\n",
              "    <tr>\n",
              "      <th>Price range</th>\n",
              "      <td>1250-1500</td>\n",
              "      <td>1250-1500</td>\n",
              "      <td>1250-1500</td>\n",
              "      <td>1000-1250</td>\n",
              "      <td>1000-1250</td>\n",
              "    </tr>\n",
              "    <tr>\n",
              "      <th>Sleeve pattern</th>\n",
              "      <td>Sleeveless</td>\n",
              "      <td>Short</td>\n",
              "      <td>Sleeveless</td>\n",
              "      <td>Short</td>\n",
              "      <td>Sleeveless</td>\n",
              "    </tr>\n",
              "    <tr>\n",
              "      <th>Material design</th>\n",
              "      <td>Floral</td>\n",
              "      <td>Plain</td>\n",
              "      <td>Dotted</td>\n",
              "      <td>Floral</td>\n",
              "      <td>Plain</td>\n",
              "    </tr>\n",
              "    <tr>\n",
              "      <th>Measurement type</th>\n",
              "      <td>Ready-made</td>\n",
              "      <td>Ready-made</td>\n",
              "      <td>Ready-made</td>\n",
              "      <td>Customized</td>\n",
              "      <td>Customized</td>\n",
              "    </tr>\n",
              "    <tr>\n",
              "      <th>Collar type</th>\n",
              "      <td>Collarless</td>\n",
              "      <td>Peter pan collar</td>\n",
              "      <td>Collarless</td>\n",
              "      <td>Collarless</td>\n",
              "      <td>Collarless</td>\n",
              "    </tr>\n",
              "    <tr>\n",
              "      <th>Including a hairband or not</th>\n",
              "      <td>No</td>\n",
              "      <td>No</td>\n",
              "      <td>No</td>\n",
              "      <td>No</td>\n",
              "      <td>No</td>\n",
              "    </tr>\n",
              "    <tr>\n",
              "      <th>Special features (Buttons/Hucks/Zippers/None)</th>\n",
              "      <td>Bow</td>\n",
              "      <td>None</td>\n",
              "      <td>Bow</td>\n",
              "      <td>Bow</td>\n",
              "      <td>None</td>\n",
              "    </tr>\n",
              "  </tbody>\n",
              "</table>\n",
              "</div>"
            ],
            "text/plain": [
              "                                                        0  ...           4\n",
              "Age range of customer                               50-60  ...       20-30\n",
              "Color                                              Yellow  ...       Black\n",
              "Material type                                      Cotton  ...      Cotton\n",
              "Discount Status                                       YES  ...         YES\n",
              "Discount Amount                                        20  ...          15\n",
              "Price                                                1300  ...        1100\n",
              "Price range                                     1250-1500  ...   1000-1250\n",
              "Sleeve pattern                                 Sleeveless  ...  Sleeveless\n",
              "Material design                                    Floral  ...       Plain\n",
              "Measurement type                               Ready-made  ...  Customized\n",
              "Collar type                                    Collarless  ...  Collarless\n",
              "Including a hairband or not                            No  ...          No\n",
              "Special features (Buttons/Hucks/Zippers/None)         Bow  ...        None\n",
              "\n",
              "[13 rows x 5 columns]"
            ]
          },
          "metadata": {
            "tags": []
          },
          "execution_count": 8
        }
      ]
    },
    {
      "cell_type": "code",
      "metadata": {
        "colab": {
          "base_uri": "https://localhost:8080/"
        },
        "id": "ya-EpCLYVhNk",
        "outputId": "41c99366-d6cf-4dda-cb18-5a44433d341c"
      },
      "source": [
        "print(df.columns)"
      ],
      "execution_count": 9,
      "outputs": [
        {
          "output_type": "stream",
          "text": [
            "Index(['Age range of customer', 'Color', 'Material type', 'Discount Status',\n",
            "       'Discount Amount', 'Price', 'Price range', 'Sleeve pattern',\n",
            "       'Material design', 'Measurement type', 'Collar type',\n",
            "       'Including a hairband or not',\n",
            "       'Special features (Buttons/Hucks/Zippers/None)'],\n",
            "      dtype='object')\n"
          ],
          "name": "stdout"
        }
      ]
    },
    {
      "cell_type": "code",
      "metadata": {
        "colab": {
          "base_uri": "https://localhost:8080/"
        },
        "id": "m5GSuco3Vl8a",
        "outputId": "538b833b-933c-455c-ab8f-11c2f3536332"
      },
      "source": [
        "# Rename columns to make it easier to access and type\n",
        "df.columns = df.columns.map(lambda col: col.replace(\" \",\"_\").lower())\n",
        "df = df.rename(columns={\n",
        "    \"age_range_of_customer\":\"age_range\",\n",
        "    \"discount_status\":\"is_discount\",\n",
        "    \"including_a_hairband_or_not\":\"has_hairband\",\n",
        "    \"special_features_(buttons/hucks/zippers/none)\":\"extra_features\"\n",
        "})\n",
        "print(df.columns)"
      ],
      "execution_count": 10,
      "outputs": [
        {
          "output_type": "stream",
          "text": [
            "Index(['age_range', 'color', 'material_type', 'is_discount', 'discount_amount',\n",
            "       'price', 'price_range', 'sleeve_pattern', 'material_design',\n",
            "       'measurement_type', 'collar_type', 'has_hairband', 'extra_features'],\n",
            "      dtype='object')\n"
          ],
          "name": "stdout"
        }
      ]
    },
    {
      "cell_type": "markdown",
      "metadata": {
        "id": "dT17BqTbVqE3"
      },
      "source": [
        "# Exploratory Data Analysis\n",
        "There are 12 predictor variables with only two continous variable."
      ]
    },
    {
      "cell_type": "code",
      "metadata": {
        "colab": {
          "base_uri": "https://localhost:8080/"
        },
        "id": "IJzHm3IUVuIk",
        "outputId": "3dbc3e4e-098b-4ebd-df92-5bf22db33a1a"
      },
      "source": [
        "df.info()\n"
      ],
      "execution_count": 12,
      "outputs": [
        {
          "output_type": "stream",
          "text": [
            "<class 'pandas.core.frame.DataFrame'>\n",
            "RangeIndex: 500 entries, 0 to 499\n",
            "Data columns (total 13 columns):\n",
            " #   Column            Non-Null Count  Dtype \n",
            "---  ------            --------------  ----- \n",
            " 0   age_range         500 non-null    object\n",
            " 1   color             500 non-null    object\n",
            " 2   material_type     500 non-null    object\n",
            " 3   is_discount       500 non-null    object\n",
            " 4   discount_amount   500 non-null    int64 \n",
            " 5   price             500 non-null    int64 \n",
            " 6   price_range       500 non-null    object\n",
            " 7   sleeve_pattern    500 non-null    object\n",
            " 8   material_design   500 non-null    object\n",
            " 9   measurement_type  500 non-null    object\n",
            " 10  collar_type       500 non-null    object\n",
            " 11  has_hairband      500 non-null    object\n",
            " 12  extra_features    500 non-null    object\n",
            "dtypes: int64(2), object(11)\n",
            "memory usage: 50.9+ KB\n"
          ],
          "name": "stdout"
        }
      ]
    },
    {
      "cell_type": "code",
      "metadata": {
        "colab": {
          "base_uri": "https://localhost:8080/"
        },
        "id": "OGEao2d7VzZm",
        "outputId": "3e74ba98-84f2-4e90-cf10-6aee91d54190"
      },
      "source": [
        "for col in df.drop([\"discount_amount\",\"price\"],axis=\"columns\"):\n",
        "    print(f\"Value of counts of {col}\\n\")\n",
        "    print(df[col].value_counts())\n",
        "    print(\"\\n\")"
      ],
      "execution_count": 13,
      "outputs": [
        {
          "output_type": "stream",
          "text": [
            "Value of counts of age_range\n",
            "\n",
            "30-40    185\n",
            "20-30    136\n",
            "40-50     89\n",
            "50-60     60\n",
            "60-70     30\n",
            "Name: age_range, dtype: int64\n",
            "\n",
            "\n",
            "Value of counts of color\n",
            "\n",
            "Red       115\n",
            "Yellow    103\n",
            "Pink       84\n",
            "Blue       63\n",
            "Black      36\n",
            "Green      32\n",
            "White      23\n",
            "Orange     22\n",
            "Flower     15\n",
            "Cream       7\n",
            "Name: color, dtype: int64\n",
            "\n",
            "\n",
            "Value of counts of material_type\n",
            "\n",
            "Cotton    430\n",
            "Denim      39\n",
            "Linen      31\n",
            "Name: material_type, dtype: int64\n",
            "\n",
            "\n",
            "Value of counts of is_discount\n",
            "\n",
            "YES    315\n",
            "NO     185\n",
            "Name: is_discount, dtype: int64\n",
            "\n",
            "\n",
            "Value of counts of price_range\n",
            "\n",
            "1250-1500    229\n",
            "1500-1750    167\n",
            "1000-1250    104\n",
            "Name: price_range, dtype: int64\n",
            "\n",
            "\n",
            "Value of counts of sleeve_pattern\n",
            "\n",
            "Sleeveless    354\n",
            "Short         146\n",
            "Name: sleeve_pattern, dtype: int64\n",
            "\n",
            "\n",
            "Value of counts of material_design\n",
            "\n",
            "Floral    294\n",
            "Check      84\n",
            "Dotted     71\n",
            "Plain      51\n",
            "Name: material_design, dtype: int64\n",
            "\n",
            "\n",
            "Value of counts of measurement_type\n",
            "\n",
            "Ready-made    336\n",
            "Customized    164\n",
            "Name: measurement_type, dtype: int64\n",
            "\n",
            "\n",
            "Value of counts of collar_type\n",
            "\n",
            "Collarless          446\n",
            "Peter pan collar     54\n",
            "Name: collar_type, dtype: int64\n",
            "\n",
            "\n",
            "Value of counts of has_hairband\n",
            "\n",
            "No     426\n",
            "Yes     74\n",
            "Name: has_hairband, dtype: int64\n",
            "\n",
            "\n",
            "Value of counts of extra_features\n",
            "\n",
            "Bow        344\n",
            "None        67\n",
            "Buttons     53\n",
            "Zipper      36\n",
            "Name: extra_features, dtype: int64\n",
            "\n",
            "\n"
          ],
          "name": "stdout"
        }
      ]
    },
    {
      "cell_type": "code",
      "metadata": {
        "colab": {
          "base_uri": "https://localhost:8080/"
        },
        "id": "fMvu8rZIV5s-",
        "outputId": "1d6826ac-3481-4284-b6c7-561c9156b21d"
      },
      "source": [
        "for col in df.drop([\"discount_amount\",\"price\",\"age_range\"],axis=\"columns\"):\n",
        "    print(f\"{col} and age_range tabulation\\n\")\n",
        "    print(pd.crosstab(df[col],df.loc[:,\"age_range\"]))\n",
        "    print(\"\\n\")"
      ],
      "execution_count": 14,
      "outputs": [
        {
          "output_type": "stream",
          "text": [
            "color and age_range tabulation\n",
            "\n",
            "age_range  20-30  30-40  40-50  50-60  60-70\n",
            "color                                       \n",
            "Black         17      7      4      2      6\n",
            "Blue           0     33     16     14      0\n",
            "Cream          0      3      0      4      0\n",
            "Flower         0      9      5      1      0\n",
            "Green         20      6      1      2      3\n",
            "Orange         0     13      5      4      0\n",
            "Pink          55     13      2      3     11\n",
            "Red            5     63     29     17      1\n",
            "White          0     13      7      3      0\n",
            "Yellow        39     25     20     10      9\n",
            "\n",
            "\n",
            "material_type and age_range tabulation\n",
            "\n",
            "age_range      20-30  30-40  40-50  50-60  60-70\n",
            "material_type                                   \n",
            "Cotton           136    149     73     42     30\n",
            "Denim              0     23      8      8      0\n",
            "Linen              0     13      8     10      0\n",
            "\n",
            "\n",
            "is_discount and age_range tabulation\n",
            "\n",
            "age_range    20-30  30-40  40-50  50-60  60-70\n",
            "is_discount                                   \n",
            "NO              90     56     22     15      2\n",
            "YES             46    129     67     45     28\n",
            "\n",
            "\n",
            "price_range and age_range tabulation\n",
            "\n",
            "age_range    20-30  30-40  40-50  50-60  60-70\n",
            "price_range                                   \n",
            "1000-1250       21     40     15     15     13\n",
            "1250-1500       76     73     40     29     11\n",
            "1500-1750       39     72     34     16      6\n",
            "\n",
            "\n",
            "sleeve_pattern and age_range tabulation\n",
            "\n",
            "age_range       20-30  30-40  40-50  50-60  60-70\n",
            "sleeve_pattern                                   \n",
            "Short              75     35     10     12     14\n",
            "Sleeveless         61    150     79     48     16\n",
            "\n",
            "\n",
            "material_design and age_range tabulation\n",
            "\n",
            "age_range        20-30  30-40  40-50  50-60  60-70\n",
            "material_design                                   \n",
            "Check                2     43     23     15      1\n",
            "Dotted              23     23      9     10      6\n",
            "Floral              87    106     50     32     19\n",
            "Plain               24     13      7      3      4\n",
            "\n",
            "\n",
            "measurement_type and age_range tabulation\n",
            "\n",
            "age_range         20-30  30-40  40-50  50-60  60-70\n",
            "measurement_type                                   \n",
            "Customized           57     33     38     19     17\n",
            "Ready-made           79    152     51     41     13\n",
            "\n",
            "\n",
            "collar_type and age_range tabulation\n",
            "\n",
            "age_range         20-30  30-40  40-50  50-60  60-70\n",
            "collar_type                                        \n",
            "Collarless          116    166     83     54     27\n",
            "Peter pan collar     20     19      6      6      3\n",
            "\n",
            "\n",
            "has_hairband and age_range tabulation\n",
            "\n",
            "age_range     20-30  30-40  40-50  50-60  60-70\n",
            "has_hairband                                   \n",
            "No               91    169     83     54     29\n",
            "Yes              45     16      6      6      1\n",
            "\n",
            "\n",
            "extra_features and age_range tabulation\n",
            "\n",
            "age_range       20-30  30-40  40-50  50-60  60-70\n",
            "extra_features                                   \n",
            "Bow                99    124     65     35     21\n",
            "Buttons            15     19      7      8      4\n",
            "None               22     23     10      7      5\n",
            "Zipper              0     19      7     10      0\n",
            "\n",
            "\n"
          ],
          "name": "stdout"
        }
      ]
    },
    {
      "cell_type": "code",
      "metadata": {
        "id": "fOX-XB_5V8Q-"
      },
      "source": [
        ""
      ],
      "execution_count": null,
      "outputs": []
    },
    {
      "cell_type": "markdown",
      "metadata": {
        "id": "RSuL1RBLWAio"
      },
      "source": [
        "## Data Preprocessing"
      ]
    },
    {
      "cell_type": "code",
      "metadata": {
        "id": "zoDiCa0TWDAg"
      },
      "source": [
        "y = df[\"age_range\"]\n",
        "le = LabelEncoder()\n",
        "y = le.fit_transform(y)"
      ],
      "execution_count": 15,
      "outputs": []
    },
    {
      "cell_type": "code",
      "metadata": {
        "id": "OF57Z3s5WIfg"
      },
      "source": [
        "X = df.drop([\"age_range\"],axis=\"columns\")\n",
        "X_cat = df.drop([\"discount_amount\",\"price\"],axis=\"columns\")\n",
        "X_num = df.loc[:,[\"discount_amount\",\"price\"]]\n",
        "X = pd.concat([X_num,pd.get_dummies(X_cat)],axis=\"columns\")"
      ],
      "execution_count": 16,
      "outputs": []
    },
    {
      "cell_type": "markdown",
      "metadata": {
        "id": "QaDwzfEUWMeY"
      },
      "source": [
        "## Split Dataset"
      ]
    },
    {
      "cell_type": "code",
      "metadata": {
        "id": "KaECq0BEZ5Jk"
      },
      "source": [
        "X_train, X_test, y_train, y_test = train_test_split(X,y,train_size = 0.8,test_size = 0.2,random_state=42)"
      ],
      "execution_count": 17,
      "outputs": []
    },
    {
      "cell_type": "code",
      "metadata": {
        "colab": {
          "base_uri": "https://localhost:8080/"
        },
        "id": "4kBh4yKeaKcc",
        "outputId": "4d701279-1801-414f-c117-d367adfaa78b"
      },
      "source": [
        "print(X_train.shape)\n",
        "print(X_test.shape)"
      ],
      "execution_count": 18,
      "outputs": [
        {
          "output_type": "stream",
          "text": [
            "(400, 41)\n",
            "(100, 41)\n"
          ],
          "name": "stdout"
        }
      ]
    },
    {
      "cell_type": "code",
      "metadata": {
        "id": "oJWW5bXnaOAl"
      },
      "source": [
        "def evaluate_model(model,X_test,y_test):\n",
        "    preds = model.predict(X_test)\n",
        "    print(f\"F! Score is {round(f1_score(y_test,preds,average='macro'),4)}\")\n",
        "    print(f\"Accuracy is {round(accuracy_score(y_test,preds),4)}\")\n",
        "    print(f\"Precision Score is {round(precision_score(y_test,preds,average='macro'),4)}\")\n",
        "    print(f\"Recall Score is {round(recall_score(y_test,preds,average='macro'),4)}\")\n",
        "    print(confusion_matrix(y_test,preds))"
      ],
      "execution_count": 19,
      "outputs": []
    },
    {
      "cell_type": "markdown",
      "metadata": {
        "id": "kiHSsMGNaRNZ"
      },
      "source": [
        "# K Nearest Neighbors"
      ]
    },
    {
      "cell_type": "markdown",
      "metadata": {
        "id": "UWFg_w1qaje0"
      },
      "source": [
        "When K = 3"
      ]
    },
    {
      "cell_type": "code",
      "metadata": {
        "id": "ys7u_WNRao2W"
      },
      "source": [
        "from sklearn.neighbors import KNeighborsClassifier\n",
        "knn_model = KNeighborsClassifier(n_neighbors = 3)\n",
        "knn_model = knn_model.fit(X_train,y_train)"
      ],
      "execution_count": 20,
      "outputs": []
    },
    {
      "cell_type": "code",
      "metadata": {
        "colab": {
          "base_uri": "https://localhost:8080/"
        },
        "id": "4guH60Htasej",
        "outputId": "d9e788fd-1b9b-4356-bbd7-73432d2ef5dc"
      },
      "source": [
        "evaluate_model(knn_model,X_test,y_test)"
      ],
      "execution_count": 21,
      "outputs": [
        {
          "output_type": "stream",
          "text": [
            "F! Score is 0.5986\n",
            "Accuracy is 0.71\n",
            "Precision Score is 0.7393\n",
            "Recall Score is 0.5802\n",
            "[[24  2  3  1  0]\n",
            " [ 3 29  2  2  0]\n",
            " [ 0  5 13  1  0]\n",
            " [ 1  4  0  4  0]\n",
            " [ 2  3  0  0  1]]\n"
          ],
          "name": "stdout"
        }
      ]
    },
    {
      "cell_type": "code",
      "metadata": {
        "id": "_J1grjlGHG5f"
      },
      "source": [
        "y_pred = knn_model.predict(X_test)"
      ],
      "execution_count": 22,
      "outputs": []
    },
    {
      "cell_type": "code",
      "metadata": {
        "colab": {
          "base_uri": "https://localhost:8080/"
        },
        "id": "Ox1fvaXlHzFJ",
        "outputId": "93eaef92-8bad-4911-8950-ed501ace9693"
      },
      "source": [
        "from sklearn.metrics import classification_report, confusion_matrix\n",
        "print(confusion_matrix(y_test, y_pred))\n",
        "print(classification_report(y_test, y_pred))"
      ],
      "execution_count": 23,
      "outputs": [
        {
          "output_type": "stream",
          "text": [
            "[[24  2  3  1  0]\n",
            " [ 3 29  2  2  0]\n",
            " [ 0  5 13  1  0]\n",
            " [ 1  4  0  4  0]\n",
            " [ 2  3  0  0  1]]\n",
            "              precision    recall  f1-score   support\n",
            "\n",
            "           0       0.80      0.80      0.80        30\n",
            "           1       0.67      0.81      0.73        36\n",
            "           2       0.72      0.68      0.70        19\n",
            "           3       0.50      0.44      0.47         9\n",
            "           4       1.00      0.17      0.29         6\n",
            "\n",
            "    accuracy                           0.71       100\n",
            "   macro avg       0.74      0.58      0.60       100\n",
            "weighted avg       0.73      0.71      0.70       100\n",
            "\n"
          ],
          "name": "stdout"
        }
      ]
    },
    {
      "cell_type": "markdown",
      "metadata": {
        "id": "X9L4aZyNawr8"
      },
      "source": [
        "When K = 5"
      ]
    },
    {
      "cell_type": "code",
      "metadata": {
        "id": "Y1PDU5Bjaycl"
      },
      "source": [
        "knn_model = KNeighborsClassifier(n_neighbors = 5)\n",
        "knn_model = knn_model.fit(X_train,y_train)"
      ],
      "execution_count": null,
      "outputs": []
    },
    {
      "cell_type": "code",
      "metadata": {
        "colab": {
          "base_uri": "https://localhost:8080/"
        },
        "id": "oJpFzJwea3lc",
        "outputId": "e3df27f6-2e80-4743-84d8-9b773c3031ac"
      },
      "source": [
        "evaluate_model(knn_model,X_test,y_test)"
      ],
      "execution_count": null,
      "outputs": [
        {
          "output_type": "stream",
          "text": [
            "F! Score is 0.4898\n",
            "Accuracy is 0.59\n",
            "Precision Score is 0.6696\n",
            "Recall Score is 0.4654\n",
            "[[21  4  4  1  0]\n",
            " [ 5 29  1  1  0]\n",
            " [ 1 14  4  0  0]\n",
            " [ 1  4  0  4  0]\n",
            " [ 2  3  0  0  1]]\n"
          ],
          "name": "stdout"
        }
      ]
    },
    {
      "cell_type": "markdown",
      "metadata": {
        "id": "daN4L9H5bCRm"
      },
      "source": [
        "When K = 7"
      ]
    },
    {
      "cell_type": "code",
      "metadata": {
        "id": "-7bI5jVMbFta"
      },
      "source": [
        "knn_model = KNeighborsClassifier(n_neighbors = 7)\n",
        "knn_model = knn_model.fit(X_train,y_train)"
      ],
      "execution_count": null,
      "outputs": []
    },
    {
      "cell_type": "code",
      "metadata": {
        "colab": {
          "base_uri": "https://localhost:8080/"
        },
        "id": "WE6a0JzabT6p",
        "outputId": "0cc20f0c-340f-4d7a-9dc4-d32f58ee7676"
      },
      "source": [
        "evaluate_model(knn_model,X_test,y_test)"
      ],
      "execution_count": null,
      "outputs": [
        {
          "output_type": "stream",
          "text": [
            "F! Score is 0.4101\n",
            "Accuracy is 0.58\n",
            "Precision Score is 0.4635\n",
            "Recall Score is 0.4127\n",
            "[[23  5  2  0  0]\n",
            " [ 6 29  1  0  0]\n",
            " [ 1 14  3  1  0]\n",
            " [ 1  4  1  3  0]\n",
            " [ 2  2  2  0  0]]\n"
          ],
          "name": "stdout"
        },
        {
          "output_type": "stream",
          "text": [
            "/usr/local/lib/python3.7/dist-packages/sklearn/metrics/_classification.py:1272: UndefinedMetricWarning: Precision is ill-defined and being set to 0.0 in labels with no predicted samples. Use `zero_division` parameter to control this behavior.\n",
            "  _warn_prf(average, modifier, msg_start, len(result))\n"
          ],
          "name": "stderr"
        }
      ]
    },
    {
      "cell_type": "markdown",
      "metadata": {
        "id": "z-lK3nOB62jc"
      },
      "source": [
        "K = 9"
      ]
    },
    {
      "cell_type": "code",
      "metadata": {
        "id": "U6aiyL7H67A1"
      },
      "source": [
        "knn_model = KNeighborsClassifier(n_neighbors = 9)\n",
        "knn_model = knn_model.fit(X_train,y_train)"
      ],
      "execution_count": 48,
      "outputs": []
    },
    {
      "cell_type": "code",
      "metadata": {
        "colab": {
          "base_uri": "https://localhost:8080/"
        },
        "id": "KbEPBw1F67hj",
        "outputId": "77b622e2-f30a-47d7-ee59-4a5e52a9df93"
      },
      "source": [
        "evaluate_model(knn_model,X_test,y_test)"
      ],
      "execution_count": 49,
      "outputs": [
        {
          "output_type": "stream",
          "text": [
            "F! Score is 0.4184\n",
            "Accuracy is 0.59\n",
            "Precision Score is 0.4313\n",
            "Recall Score is 0.426\n",
            "[[21  4  4  0  1]\n",
            " [ 3 30  0  3  0]\n",
            " [ 1 12  5  1  0]\n",
            " [ 1  4  1  3  0]\n",
            " [ 2  2  1  1  0]]\n"
          ],
          "name": "stdout"
        }
      ]
    },
    {
      "cell_type": "markdown",
      "metadata": {
        "id": "C5ohJufZ69uk"
      },
      "source": [
        "K = 11"
      ]
    },
    {
      "cell_type": "code",
      "metadata": {
        "id": "GZnUUnIP7ALj"
      },
      "source": [
        "knn_model = KNeighborsClassifier(n_neighbors = 11)\n",
        "knn_model = knn_model.fit(X_train,y_train)"
      ],
      "execution_count": 50,
      "outputs": []
    },
    {
      "cell_type": "code",
      "metadata": {
        "colab": {
          "base_uri": "https://localhost:8080/"
        },
        "id": "nrSf3w847Gig",
        "outputId": "50a07209-d53b-4fce-a136-ea077da9ae99"
      },
      "source": [
        "evaluate_model(knn_model,X_test,y_test)"
      ],
      "execution_count": 51,
      "outputs": [
        {
          "output_type": "stream",
          "text": [
            "F! Score is 0.3972\n",
            "Accuracy is 0.58\n",
            "Precision Score is 0.4237\n",
            "Recall Score is 0.4026\n",
            "[[20  5  4  0  1]\n",
            " [ 4 31  0  1  0]\n",
            " [ 1 12  5  1  0]\n",
            " [ 2  4  1  2  0]\n",
            " [ 2  2  1  1  0]]\n"
          ],
          "name": "stdout"
        }
      ]
    },
    {
      "cell_type": "markdown",
      "metadata": {
        "id": "d2fgXaIPbvcF"
      },
      "source": [
        "# Decision Tree"
      ]
    },
    {
      "cell_type": "code",
      "metadata": {
        "id": "FEbs8A3Ob2JX"
      },
      "source": [
        "dt_model = DecisionTreeClassifier()\n",
        "dt_model = dt_model.fit(X_train,y_train)"
      ],
      "execution_count": null,
      "outputs": []
    },
    {
      "cell_type": "code",
      "metadata": {
        "colab": {
          "base_uri": "https://localhost:8080/"
        },
        "id": "_cfZCJY7b58k",
        "outputId": "3e1d3951-5e45-4218-adc4-25c8b8b010aa"
      },
      "source": [
        "evaluate_model(dt_model,X_test,y_test)"
      ],
      "execution_count": null,
      "outputs": [
        {
          "output_type": "stream",
          "text": [
            "F! Score is 1.0\n",
            "Accuracy is 1.0\n",
            "Precision Score is 1.0\n",
            "Recall Score is 1.0\n",
            "[[30  0  0  0  0]\n",
            " [ 0 36  0  0  0]\n",
            " [ 0  0 19  0  0]\n",
            " [ 0  0  0  9  0]\n",
            " [ 0  0  0  0  6]]\n"
          ],
          "name": "stdout"
        }
      ]
    },
    {
      "cell_type": "code",
      "metadata": {
        "colab": {
          "base_uri": "https://localhost:8080/",
          "height": 757
        },
        "id": "JsHR_qGpb91b",
        "outputId": "a5ca4f0a-01d2-4b5e-eaee-5c66225a503d"
      },
      "source": [
        "fig = export_graphviz(dt_model, out_file = None,\n",
        "                      feature_names=X.columns.values, class_names=df.age_range.unique(), filled=True)\n",
        "graph = graphviz.Source(fig, format=\"png\") \n",
        "graph"
      ],
      "execution_count": 45,
      "outputs": [
        {
          "output_type": "execute_result",
          "data": {
            "text/plain": [
              "<graphviz.files.Source at 0x7f8b4614df10>"
            ],
            "image/svg+xml": "<?xml version=\"1.0\" encoding=\"UTF-8\" standalone=\"no\"?>\n<!DOCTYPE svg PUBLIC \"-//W3C//DTD SVG 1.1//EN\"\n \"http://www.w3.org/Graphics/SVG/1.1/DTD/svg11.dtd\">\n<!-- Generated by graphviz version 2.40.1 (20161225.0304)\n -->\n<!-- Title: Tree Pages: 1 -->\n<svg width=\"599pt\" height=\"552pt\"\n viewBox=\"0.00 0.00 599.00 552.00\" xmlns=\"http://www.w3.org/2000/svg\" xmlns:xlink=\"http://www.w3.org/1999/xlink\">\n<g id=\"graph0\" class=\"graph\" transform=\"scale(1 1) rotate(0) translate(4 548)\">\n<title>Tree</title>\n<polygon fill=\"#ffffff\" stroke=\"transparent\" points=\"-4,4 -4,-548 595,-548 595,4 -4,4\"/>\n<!-- 0 -->\n<g id=\"node1\" class=\"node\">\n<title>0</title>\n<polygon fill=\"#ecfbe2\" stroke=\"#000000\" points=\"517.5,-544 325.5,-544 325.5,-461 517.5,-461 517.5,-544\"/>\n<text text-anchor=\"middle\" x=\"421.5\" y=\"-528.8\" font-family=\"Times,serif\" font-size=\"14.00\" fill=\"#000000\">age_range_30&#45;40 &lt;= 0.5</text>\n<text text-anchor=\"middle\" x=\"421.5\" y=\"-513.8\" font-family=\"Times,serif\" font-size=\"14.00\" fill=\"#000000\">gini = 0.741</text>\n<text text-anchor=\"middle\" x=\"421.5\" y=\"-498.8\" font-family=\"Times,serif\" font-size=\"14.00\" fill=\"#000000\">samples = 400</text>\n<text text-anchor=\"middle\" x=\"421.5\" y=\"-483.8\" font-family=\"Times,serif\" font-size=\"14.00\" fill=\"#000000\">value = [106, 149, 70, 51, 24]</text>\n<text text-anchor=\"middle\" x=\"421.5\" y=\"-468.8\" font-family=\"Times,serif\" font-size=\"14.00\" fill=\"#000000\">class = 20&#45;30</text>\n</g>\n<!-- 1 -->\n<g id=\"node2\" class=\"node\">\n<title>1</title>\n<polygon fill=\"#fae6d8\" stroke=\"#000000\" points=\"418,-425 241,-425 241,-342 418,-342 418,-425\"/>\n<text text-anchor=\"middle\" x=\"329.5\" y=\"-409.8\" font-family=\"Times,serif\" font-size=\"14.00\" fill=\"#000000\">age_range_20&#45;30 &lt;= 0.5</text>\n<text text-anchor=\"middle\" x=\"329.5\" y=\"-394.8\" font-family=\"Times,serif\" font-size=\"14.00\" fill=\"#000000\">gini = 0.693</text>\n<text text-anchor=\"middle\" x=\"329.5\" y=\"-379.8\" font-family=\"Times,serif\" font-size=\"14.00\" fill=\"#000000\">samples = 251</text>\n<text text-anchor=\"middle\" x=\"329.5\" y=\"-364.8\" font-family=\"Times,serif\" font-size=\"14.00\" fill=\"#000000\">value = [106, 0, 70, 51, 24]</text>\n<text text-anchor=\"middle\" x=\"329.5\" y=\"-349.8\" font-family=\"Times,serif\" font-size=\"14.00\" fill=\"#000000\">class = 50&#45;60</text>\n</g>\n<!-- 0&#45;&gt;1 -->\n<g id=\"edge1\" class=\"edge\">\n<title>0&#45;&gt;1</title>\n<path fill=\"none\" stroke=\"#000000\" d=\"M389.3229,-460.8796C382.4296,-451.9633 375.0798,-442.4565 367.9761,-433.268\"/>\n<polygon fill=\"#000000\" stroke=\"#000000\" points=\"370.6999,-431.0687 361.8145,-425.2981 365.1619,-435.3502 370.6999,-431.0687\"/>\n<text text-anchor=\"middle\" x=\"358.6413\" y=\"-446.3959\" font-family=\"Times,serif\" font-size=\"14.00\" fill=\"#000000\">True</text>\n</g>\n<!-- 8 -->\n<g id=\"node9\" class=\"node\">\n<title>8</title>\n<polygon fill=\"#7be539\" stroke=\"#000000\" points=\"591,-417.5 436,-417.5 436,-349.5 591,-349.5 591,-417.5\"/>\n<text text-anchor=\"middle\" x=\"513.5\" y=\"-402.3\" font-family=\"Times,serif\" font-size=\"14.00\" fill=\"#000000\">gini = 0.0</text>\n<text text-anchor=\"middle\" x=\"513.5\" y=\"-387.3\" font-family=\"Times,serif\" font-size=\"14.00\" fill=\"#000000\">samples = 149</text>\n<text text-anchor=\"middle\" x=\"513.5\" y=\"-372.3\" font-family=\"Times,serif\" font-size=\"14.00\" fill=\"#000000\">value = [0, 149, 0, 0, 0]</text>\n<text text-anchor=\"middle\" x=\"513.5\" y=\"-357.3\" font-family=\"Times,serif\" font-size=\"14.00\" fill=\"#000000\">class = 20&#45;30</text>\n</g>\n<!-- 0&#45;&gt;8 -->\n<g id=\"edge8\" class=\"edge\">\n<title>0&#45;&gt;8</title>\n<path fill=\"none\" stroke=\"#000000\" d=\"M453.6771,-460.8796C462.4333,-449.5536 471.9262,-437.2748 480.7156,-425.9058\"/>\n<polygon fill=\"#000000\" stroke=\"#000000\" points=\"483.6234,-427.8671 486.9708,-417.8149 478.0854,-423.5856 483.6234,-427.8671\"/>\n<text text-anchor=\"middle\" x=\"490.144\" y=\"-438.9127\" font-family=\"Times,serif\" font-size=\"14.00\" fill=\"#000000\">False</text>\n</g>\n<!-- 2 -->\n<g id=\"node3\" class=\"node\">\n<title>2</title>\n<polygon fill=\"#d7faf3\" stroke=\"#000000\" points=\"322.5,-306 160.5,-306 160.5,-223 322.5,-223 322.5,-306\"/>\n<text text-anchor=\"middle\" x=\"241.5\" y=\"-290.8\" font-family=\"Times,serif\" font-size=\"14.00\" fill=\"#000000\">age_range_40&#45;50 &lt;= 0.5</text>\n<text text-anchor=\"middle\" x=\"241.5\" y=\"-275.8\" font-family=\"Times,serif\" font-size=\"14.00\" fill=\"#000000\">gini = 0.616</text>\n<text text-anchor=\"middle\" x=\"241.5\" y=\"-260.8\" font-family=\"Times,serif\" font-size=\"14.00\" fill=\"#000000\">samples = 145</text>\n<text text-anchor=\"middle\" x=\"241.5\" y=\"-245.8\" font-family=\"Times,serif\" font-size=\"14.00\" fill=\"#000000\">value = [0, 0, 70, 51, 24]</text>\n<text text-anchor=\"middle\" x=\"241.5\" y=\"-230.8\" font-family=\"Times,serif\" font-size=\"14.00\" fill=\"#000000\">class = 30&#45;40</text>\n</g>\n<!-- 1&#45;&gt;2 -->\n<g id=\"edge2\" class=\"edge\">\n<title>1&#45;&gt;2</title>\n<path fill=\"none\" stroke=\"#000000\" d=\"M298.7219,-341.8796C292.1949,-333.0534 285.2401,-323.6485 278.5092,-314.5466\"/>\n<polygon fill=\"#000000\" stroke=\"#000000\" points=\"281.1695,-312.2574 272.4095,-306.2981 275.5412,-316.4195 281.1695,-312.2574\"/>\n</g>\n<!-- 7 -->\n<g id=\"node8\" class=\"node\">\n<title>7</title>\n<polygon fill=\"#e58139\" stroke=\"#000000\" points=\"496,-298.5 341,-298.5 341,-230.5 496,-230.5 496,-298.5\"/>\n<text text-anchor=\"middle\" x=\"418.5\" y=\"-283.3\" font-family=\"Times,serif\" font-size=\"14.00\" fill=\"#000000\">gini = 0.0</text>\n<text text-anchor=\"middle\" x=\"418.5\" y=\"-268.3\" font-family=\"Times,serif\" font-size=\"14.00\" fill=\"#000000\">samples = 106</text>\n<text text-anchor=\"middle\" x=\"418.5\" y=\"-253.3\" font-family=\"Times,serif\" font-size=\"14.00\" fill=\"#000000\">value = [106, 0, 0, 0, 0]</text>\n<text text-anchor=\"middle\" x=\"418.5\" y=\"-238.3\" font-family=\"Times,serif\" font-size=\"14.00\" fill=\"#000000\">class = 50&#45;60</text>\n</g>\n<!-- 1&#45;&gt;7 -->\n<g id=\"edge7\" class=\"edge\">\n<title>1&#45;&gt;7</title>\n<path fill=\"none\" stroke=\"#000000\" d=\"M360.6279,-341.8796C369.0986,-330.5536 378.2819,-318.2748 386.7847,-306.9058\"/>\n<polygon fill=\"#000000\" stroke=\"#000000\" points=\"389.6495,-308.9193 392.8359,-298.8149 384.0438,-304.7268 389.6495,-308.9193\"/>\n</g>\n<!-- 3 -->\n<g id=\"node4\" class=\"node\">\n<title>3</title>\n<polygon fill=\"#9896f1\" stroke=\"#000000\" points=\"235.5,-187 75.5,-187 75.5,-104 235.5,-104 235.5,-187\"/>\n<text text-anchor=\"middle\" x=\"155.5\" y=\"-171.8\" font-family=\"Times,serif\" font-size=\"14.00\" fill=\"#000000\">age_range_60&#45;70 &lt;= 0.5</text>\n<text text-anchor=\"middle\" x=\"155.5\" y=\"-156.8\" font-family=\"Times,serif\" font-size=\"14.00\" fill=\"#000000\">gini = 0.435</text>\n<text text-anchor=\"middle\" x=\"155.5\" y=\"-141.8\" font-family=\"Times,serif\" font-size=\"14.00\" fill=\"#000000\">samples = 75</text>\n<text text-anchor=\"middle\" x=\"155.5\" y=\"-126.8\" font-family=\"Times,serif\" font-size=\"14.00\" fill=\"#000000\">value = [0, 0, 0, 51, 24]</text>\n<text text-anchor=\"middle\" x=\"155.5\" y=\"-111.8\" font-family=\"Times,serif\" font-size=\"14.00\" fill=\"#000000\">class = 40&#45;50</text>\n</g>\n<!-- 2&#45;&gt;3 -->\n<g id=\"edge3\" class=\"edge\">\n<title>2&#45;&gt;3</title>\n<path fill=\"none\" stroke=\"#000000\" d=\"M211.4214,-222.8796C205.0428,-214.0534 198.246,-204.6485 191.6681,-195.5466\"/>\n<polygon fill=\"#000000\" stroke=\"#000000\" points=\"194.4012,-193.353 185.707,-187.2981 188.7277,-197.4532 194.4012,-193.353\"/>\n</g>\n<!-- 6 -->\n<g id=\"node7\" class=\"node\">\n<title>6</title>\n<polygon fill=\"#39e5c5\" stroke=\"#000000\" points=\"401,-179.5 254,-179.5 254,-111.5 401,-111.5 401,-179.5\"/>\n<text text-anchor=\"middle\" x=\"327.5\" y=\"-164.3\" font-family=\"Times,serif\" font-size=\"14.00\" fill=\"#000000\">gini = 0.0</text>\n<text text-anchor=\"middle\" x=\"327.5\" y=\"-149.3\" font-family=\"Times,serif\" font-size=\"14.00\" fill=\"#000000\">samples = 70</text>\n<text text-anchor=\"middle\" x=\"327.5\" y=\"-134.3\" font-family=\"Times,serif\" font-size=\"14.00\" fill=\"#000000\">value = [0, 0, 70, 0, 0]</text>\n<text text-anchor=\"middle\" x=\"327.5\" y=\"-119.3\" font-family=\"Times,serif\" font-size=\"14.00\" fill=\"#000000\">class = 30&#45;40</text>\n</g>\n<!-- 2&#45;&gt;6 -->\n<g id=\"edge6\" class=\"edge\">\n<title>2&#45;&gt;6</title>\n<path fill=\"none\" stroke=\"#000000\" d=\"M271.5786,-222.8796C279.6843,-211.6636 288.4653,-199.5131 296.6143,-188.2372\"/>\n<polygon fill=\"#000000\" stroke=\"#000000\" points=\"299.6803,-189.9701 302.701,-179.8149 294.0068,-185.8698 299.6803,-189.9701\"/>\n</g>\n<!-- 4 -->\n<g id=\"node5\" class=\"node\">\n<title>4</title>\n<polygon fill=\"#3c39e5\" stroke=\"#000000\" points=\"147,-68 0,-68 0,0 147,0 147,-68\"/>\n<text text-anchor=\"middle\" x=\"73.5\" y=\"-52.8\" font-family=\"Times,serif\" font-size=\"14.00\" fill=\"#000000\">gini = 0.0</text>\n<text text-anchor=\"middle\" x=\"73.5\" y=\"-37.8\" font-family=\"Times,serif\" font-size=\"14.00\" fill=\"#000000\">samples = 51</text>\n<text text-anchor=\"middle\" x=\"73.5\" y=\"-22.8\" font-family=\"Times,serif\" font-size=\"14.00\" fill=\"#000000\">value = [0, 0, 0, 51, 0]</text>\n<text text-anchor=\"middle\" x=\"73.5\" y=\"-7.8\" font-family=\"Times,serif\" font-size=\"14.00\" fill=\"#000000\">class = 40&#45;50</text>\n</g>\n<!-- 3&#45;&gt;4 -->\n<g id=\"edge4\" class=\"edge\">\n<title>3&#45;&gt;4</title>\n<path fill=\"none\" stroke=\"#000000\" d=\"M124.9662,-103.9815C118.3424,-94.9747 111.3279,-85.4367 104.6795,-76.3965\"/>\n<polygon fill=\"#000000\" stroke=\"#000000\" points=\"107.4426,-74.2461 98.6984,-68.2637 101.8034,-78.3933 107.4426,-74.2461\"/>\n</g>\n<!-- 5 -->\n<g id=\"node6\" class=\"node\">\n<title>5</title>\n<polygon fill=\"#e539c0\" stroke=\"#000000\" points=\"312,-68 165,-68 165,0 312,0 312,-68\"/>\n<text text-anchor=\"middle\" x=\"238.5\" y=\"-52.8\" font-family=\"Times,serif\" font-size=\"14.00\" fill=\"#000000\">gini = 0.0</text>\n<text text-anchor=\"middle\" x=\"238.5\" y=\"-37.8\" font-family=\"Times,serif\" font-size=\"14.00\" fill=\"#000000\">samples = 24</text>\n<text text-anchor=\"middle\" x=\"238.5\" y=\"-22.8\" font-family=\"Times,serif\" font-size=\"14.00\" fill=\"#000000\">value = [0, 0, 0, 0, 24]</text>\n<text text-anchor=\"middle\" x=\"238.5\" y=\"-7.8\" font-family=\"Times,serif\" font-size=\"14.00\" fill=\"#000000\">class = 60&#45;70</text>\n</g>\n<!-- 3&#45;&gt;5 -->\n<g id=\"edge5\" class=\"edge\">\n<title>3&#45;&gt;5</title>\n<path fill=\"none\" stroke=\"#000000\" d=\"M186.4061,-103.9815C193.1108,-94.9747 200.2108,-85.4367 206.9403,-76.3965\"/>\n<polygon fill=\"#000000\" stroke=\"#000000\" points=\"209.8306,-78.3752 212.9943,-68.2637 204.2155,-74.1953 209.8306,-78.3752\"/>\n</g>\n</g>\n</svg>\n"
          },
          "metadata": {
            "tags": []
          },
          "execution_count": 45
        }
      ]
    }
  ]
}