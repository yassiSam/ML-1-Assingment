{
  "nbformat": 4,
  "nbformat_minor": 0,
  "metadata": {
    "colab": {
      "name": "ML Model for Frockies.ipynb",
      "provenance": [],
      "authorship_tag": "ABX9TyMKGsUjyd9zON8yBrCv/HB8",
      "include_colab_link": true
    },
    "kernelspec": {
      "name": "python3",
      "display_name": "Python 3"
    },
    "language_info": {
      "name": "python"
    }
  },
  "cells": [
    {
      "cell_type": "markdown",
      "metadata": {
        "id": "view-in-github",
        "colab_type": "text"
      },
      "source": [
        "<a href=\"https://colab.research.google.com/github/yassiSam/ML-1-Assingment/blob/main/ML_Model_for_Frockies.ipynb\" target=\"_parent\"><img src=\"https://colab.research.google.com/assets/colab-badge.svg\" alt=\"Open In Colab\"/></a>"
      ]
    },
    {
      "cell_type": "code",
      "metadata": {
        "id": "sdnm9IqQU6Jc"
      },
      "source": [
        "import pandas as pd\n",
        "import numpy as np\n",
        "from sklearn.neighbors import KNeighborsClassifier\n",
        "from sklearn.tree import DecisionTreeClassifier, plot_tree, export_graphviz\n",
        "from sklearn.linear_model import LogisticRegression\n",
        "from sklearn.model_selection import train_test_split\n",
        "from sklearn.metrics import f1_score, confusion_matrix, accuracy_score, precision_score, recall_score, classification_report, plot_confusion_matrix\n",
        "from sklearn.preprocessing import LabelEncoder, OneHotEncoder\n",
        "import graphviz"
      ],
      "execution_count": 1,
      "outputs": []
    },
    {
      "cell_type": "markdown",
      "metadata": {
        "id": "Vqtr8RudVUVL"
      },
      "source": [
        "# Data Inseption"
      ]
    },
    {
      "cell_type": "code",
      "metadata": {
        "id": "dUYA_8dEVKr1"
      },
      "source": [
        "df = pd.read_csv(\"ML_Project-Frockies-Extended.csv\")"
      ],
      "execution_count": 2,
      "outputs": []
    },
    {
      "cell_type": "code",
      "metadata": {
        "colab": {
          "base_uri": "https://localhost:8080/",
          "height": 287
        },
        "id": "zi2FhdVUVbxJ",
        "outputId": "101f71e0-71bd-4449-a81e-aed826f3f8eb"
      },
      "source": [
        "df.describe()"
      ],
      "execution_count": 3,
      "outputs": [
        {
          "output_type": "execute_result",
          "data": {
            "text/html": [
              "<div>\n",
              "<style scoped>\n",
              "    .dataframe tbody tr th:only-of-type {\n",
              "        vertical-align: middle;\n",
              "    }\n",
              "\n",
              "    .dataframe tbody tr th {\n",
              "        vertical-align: top;\n",
              "    }\n",
              "\n",
              "    .dataframe thead th {\n",
              "        text-align: right;\n",
              "    }\n",
              "</style>\n",
              "<table border=\"1\" class=\"dataframe\">\n",
              "  <thead>\n",
              "    <tr style=\"text-align: right;\">\n",
              "      <th></th>\n",
              "      <th>Discount Amount</th>\n",
              "      <th>Price</th>\n",
              "    </tr>\n",
              "  </thead>\n",
              "  <tbody>\n",
              "    <tr>\n",
              "      <th>count</th>\n",
              "      <td>500.000000</td>\n",
              "      <td>500.00000</td>\n",
              "    </tr>\n",
              "    <tr>\n",
              "      <th>mean</th>\n",
              "      <td>11.030000</td>\n",
              "      <td>1411.02000</td>\n",
              "    </tr>\n",
              "    <tr>\n",
              "      <th>std</th>\n",
              "      <td>8.980557</td>\n",
              "      <td>204.63066</td>\n",
              "    </tr>\n",
              "    <tr>\n",
              "      <th>min</th>\n",
              "      <td>0.000000</td>\n",
              "      <td>1100.00000</td>\n",
              "    </tr>\n",
              "    <tr>\n",
              "      <th>25%</th>\n",
              "      <td>0.000000</td>\n",
              "      <td>1250.00000</td>\n",
              "    </tr>\n",
              "    <tr>\n",
              "      <th>50%</th>\n",
              "      <td>15.000000</td>\n",
              "      <td>1400.00000</td>\n",
              "    </tr>\n",
              "    <tr>\n",
              "      <th>75%</th>\n",
              "      <td>20.000000</td>\n",
              "      <td>1550.00000</td>\n",
              "    </tr>\n",
              "    <tr>\n",
              "      <th>max</th>\n",
              "      <td>20.000000</td>\n",
              "      <td>1750.00000</td>\n",
              "    </tr>\n",
              "  </tbody>\n",
              "</table>\n",
              "</div>"
            ],
            "text/plain": [
              "       Discount Amount       Price\n",
              "count       500.000000   500.00000\n",
              "mean         11.030000  1411.02000\n",
              "std           8.980557   204.63066\n",
              "min           0.000000  1100.00000\n",
              "25%           0.000000  1250.00000\n",
              "50%          15.000000  1400.00000\n",
              "75%          20.000000  1550.00000\n",
              "max          20.000000  1750.00000"
            ]
          },
          "metadata": {
            "tags": []
          },
          "execution_count": 3
        }
      ]
    },
    {
      "cell_type": "code",
      "metadata": {
        "colab": {
          "base_uri": "https://localhost:8080/",
          "height": 437
        },
        "id": "Ju02fJy5Vezh",
        "outputId": "430fc4f1-7681-4bce-e88f-46f2ca5d6816"
      },
      "source": [
        "df.head().transpose()"
      ],
      "execution_count": 4,
      "outputs": [
        {
          "output_type": "execute_result",
          "data": {
            "text/html": [
              "<div>\n",
              "<style scoped>\n",
              "    .dataframe tbody tr th:only-of-type {\n",
              "        vertical-align: middle;\n",
              "    }\n",
              "\n",
              "    .dataframe tbody tr th {\n",
              "        vertical-align: top;\n",
              "    }\n",
              "\n",
              "    .dataframe thead th {\n",
              "        text-align: right;\n",
              "    }\n",
              "</style>\n",
              "<table border=\"1\" class=\"dataframe\">\n",
              "  <thead>\n",
              "    <tr style=\"text-align: right;\">\n",
              "      <th></th>\n",
              "      <th>0</th>\n",
              "      <th>1</th>\n",
              "      <th>2</th>\n",
              "      <th>3</th>\n",
              "      <th>4</th>\n",
              "    </tr>\n",
              "  </thead>\n",
              "  <tbody>\n",
              "    <tr>\n",
              "      <th>Age range of customer</th>\n",
              "      <td>50-60</td>\n",
              "      <td>20-30</td>\n",
              "      <td>30-40</td>\n",
              "      <td>40-50</td>\n",
              "      <td>20-30</td>\n",
              "    </tr>\n",
              "    <tr>\n",
              "      <th>Color</th>\n",
              "      <td>Yellow</td>\n",
              "      <td>Green</td>\n",
              "      <td>Blue</td>\n",
              "      <td>Pink</td>\n",
              "      <td>Black</td>\n",
              "    </tr>\n",
              "    <tr>\n",
              "      <th>Material type</th>\n",
              "      <td>Cotton</td>\n",
              "      <td>Cotton</td>\n",
              "      <td>Denim</td>\n",
              "      <td>Cotton</td>\n",
              "      <td>Cotton</td>\n",
              "    </tr>\n",
              "    <tr>\n",
              "      <th>Discount Status</th>\n",
              "      <td>YES</td>\n",
              "      <td>YES</td>\n",
              "      <td>YES</td>\n",
              "      <td>YES</td>\n",
              "      <td>YES</td>\n",
              "    </tr>\n",
              "    <tr>\n",
              "      <th>Discount Amount</th>\n",
              "      <td>20</td>\n",
              "      <td>20</td>\n",
              "      <td>20</td>\n",
              "      <td>20</td>\n",
              "      <td>15</td>\n",
              "    </tr>\n",
              "    <tr>\n",
              "      <th>Price</th>\n",
              "      <td>1300</td>\n",
              "      <td>1400</td>\n",
              "      <td>1300</td>\n",
              "      <td>1100</td>\n",
              "      <td>1100</td>\n",
              "    </tr>\n",
              "    <tr>\n",
              "      <th>Price range</th>\n",
              "      <td>1250-1500</td>\n",
              "      <td>1250-1500</td>\n",
              "      <td>1250-1500</td>\n",
              "      <td>1000-1250</td>\n",
              "      <td>1000-1250</td>\n",
              "    </tr>\n",
              "    <tr>\n",
              "      <th>Sleeve pattern</th>\n",
              "      <td>Sleeveless</td>\n",
              "      <td>Short</td>\n",
              "      <td>Sleeveless</td>\n",
              "      <td>Short</td>\n",
              "      <td>Sleeveless</td>\n",
              "    </tr>\n",
              "    <tr>\n",
              "      <th>Material design</th>\n",
              "      <td>Floral</td>\n",
              "      <td>Plain</td>\n",
              "      <td>Dotted</td>\n",
              "      <td>Floral</td>\n",
              "      <td>Plain</td>\n",
              "    </tr>\n",
              "    <tr>\n",
              "      <th>Measurement type</th>\n",
              "      <td>Ready-made</td>\n",
              "      <td>Ready-made</td>\n",
              "      <td>Ready-made</td>\n",
              "      <td>Customized</td>\n",
              "      <td>Customized</td>\n",
              "    </tr>\n",
              "    <tr>\n",
              "      <th>Collar type</th>\n",
              "      <td>Collarless</td>\n",
              "      <td>Peter pan collar</td>\n",
              "      <td>Collarless</td>\n",
              "      <td>Collarless</td>\n",
              "      <td>Collarless</td>\n",
              "    </tr>\n",
              "    <tr>\n",
              "      <th>Including a hairband or not</th>\n",
              "      <td>No</td>\n",
              "      <td>No</td>\n",
              "      <td>No</td>\n",
              "      <td>No</td>\n",
              "      <td>No</td>\n",
              "    </tr>\n",
              "    <tr>\n",
              "      <th>Special features (Buttons/Hucks/Zippers/None)</th>\n",
              "      <td>Bow</td>\n",
              "      <td>None</td>\n",
              "      <td>Bow</td>\n",
              "      <td>Bow</td>\n",
              "      <td>None</td>\n",
              "    </tr>\n",
              "  </tbody>\n",
              "</table>\n",
              "</div>"
            ],
            "text/plain": [
              "                                                        0  ...           4\n",
              "Age range of customer                               50-60  ...       20-30\n",
              "Color                                              Yellow  ...       Black\n",
              "Material type                                      Cotton  ...      Cotton\n",
              "Discount Status                                       YES  ...         YES\n",
              "Discount Amount                                        20  ...          15\n",
              "Price                                                1300  ...        1100\n",
              "Price range                                     1250-1500  ...   1000-1250\n",
              "Sleeve pattern                                 Sleeveless  ...  Sleeveless\n",
              "Material design                                    Floral  ...       Plain\n",
              "Measurement type                               Ready-made  ...  Customized\n",
              "Collar type                                    Collarless  ...  Collarless\n",
              "Including a hairband or not                            No  ...          No\n",
              "Special features (Buttons/Hucks/Zippers/None)         Bow  ...        None\n",
              "\n",
              "[13 rows x 5 columns]"
            ]
          },
          "metadata": {
            "tags": []
          },
          "execution_count": 4
        }
      ]
    },
    {
      "cell_type": "code",
      "metadata": {
        "colab": {
          "base_uri": "https://localhost:8080/"
        },
        "id": "ya-EpCLYVhNk",
        "outputId": "6ab62d7f-5376-414f-f376-34a825938d5b"
      },
      "source": [
        "print(df.columns)"
      ],
      "execution_count": 5,
      "outputs": [
        {
          "output_type": "stream",
          "text": [
            "Index(['Age range of customer', 'Color', 'Material type', 'Discount Status',\n",
            "       'Discount Amount', 'Price', 'Price range', 'Sleeve pattern',\n",
            "       'Material design', 'Measurement type', 'Collar type',\n",
            "       'Including a hairband or not',\n",
            "       'Special features (Buttons/Hucks/Zippers/None)'],\n",
            "      dtype='object')\n"
          ],
          "name": "stdout"
        }
      ]
    },
    {
      "cell_type": "code",
      "metadata": {
        "colab": {
          "base_uri": "https://localhost:8080/"
        },
        "id": "m5GSuco3Vl8a",
        "outputId": "0457e04c-0954-4e4d-a448-c30bd50f36b5"
      },
      "source": [
        "# Rename columns to make it easier to access and type\n",
        "df.columns = df.columns.map(lambda col: col.replace(\" \",\"_\").lower())\n",
        "df = df.rename(columns={\n",
        "    \"age_range_of_customer\":\"age_range\",\n",
        "    \"discount_status\":\"is_discount\",\n",
        "    \"including_a_hairband_or_not\":\"has_hairband\",\n",
        "    \"special_features_(buttons/hucks/zippers/none)\":\"extra_features\"\n",
        "})\n",
        "print(df.columns)"
      ],
      "execution_count": 6,
      "outputs": [
        {
          "output_type": "stream",
          "text": [
            "Index(['age_range', 'color', 'material_type', 'is_discount', 'discount_amount',\n",
            "       'price', 'price_range', 'sleeve_pattern', 'material_design',\n",
            "       'measurement_type', 'collar_type', 'has_hairband', 'extra_features'],\n",
            "      dtype='object')\n"
          ],
          "name": "stdout"
        }
      ]
    },
    {
      "cell_type": "markdown",
      "metadata": {
        "id": "dT17BqTbVqE3"
      },
      "source": [
        "# Exploratory Data Analysis\n",
        "There are 12 predictor variables with only two continous variable."
      ]
    },
    {
      "cell_type": "code",
      "metadata": {
        "colab": {
          "base_uri": "https://localhost:8080/"
        },
        "id": "IJzHm3IUVuIk",
        "outputId": "c7981a96-ee5f-4c84-c257-709f71ad4e4f"
      },
      "source": [
        "df.info()\n"
      ],
      "execution_count": 7,
      "outputs": [
        {
          "output_type": "stream",
          "text": [
            "<class 'pandas.core.frame.DataFrame'>\n",
            "RangeIndex: 500 entries, 0 to 499\n",
            "Data columns (total 13 columns):\n",
            " #   Column            Non-Null Count  Dtype \n",
            "---  ------            --------------  ----- \n",
            " 0   age_range         500 non-null    object\n",
            " 1   color             500 non-null    object\n",
            " 2   material_type     500 non-null    object\n",
            " 3   is_discount       500 non-null    object\n",
            " 4   discount_amount   500 non-null    int64 \n",
            " 5   price             500 non-null    int64 \n",
            " 6   price_range       500 non-null    object\n",
            " 7   sleeve_pattern    500 non-null    object\n",
            " 8   material_design   500 non-null    object\n",
            " 9   measurement_type  500 non-null    object\n",
            " 10  collar_type       500 non-null    object\n",
            " 11  has_hairband      500 non-null    object\n",
            " 12  extra_features    500 non-null    object\n",
            "dtypes: int64(2), object(11)\n",
            "memory usage: 50.9+ KB\n"
          ],
          "name": "stdout"
        }
      ]
    },
    {
      "cell_type": "code",
      "metadata": {
        "colab": {
          "base_uri": "https://localhost:8080/"
        },
        "id": "OGEao2d7VzZm",
        "outputId": "52075970-8d8f-462a-927f-dfdff276e45b"
      },
      "source": [
        "for col in df.drop([\"discount_amount\",\"price\"],axis=\"columns\"):\n",
        "    print(f\"Value of counts of {col}\\n\")\n",
        "    print(df[col].value_counts())\n",
        "    print(\"\\n\")"
      ],
      "execution_count": 8,
      "outputs": [
        {
          "output_type": "stream",
          "text": [
            "Value of counts of age_range\n",
            "\n",
            "30-40    185\n",
            "20-30    136\n",
            "40-50     89\n",
            "50-60     60\n",
            "60-70     30\n",
            "Name: age_range, dtype: int64\n",
            "\n",
            "\n",
            "Value of counts of color\n",
            "\n",
            "Red       115\n",
            "Yellow    103\n",
            "Pink       84\n",
            "Blue       63\n",
            "Black      36\n",
            "Green      32\n",
            "White      23\n",
            "Orange     22\n",
            "Flower     15\n",
            "Cream       7\n",
            "Name: color, dtype: int64\n",
            "\n",
            "\n",
            "Value of counts of material_type\n",
            "\n",
            "Cotton    430\n",
            "Denim      39\n",
            "Linen      31\n",
            "Name: material_type, dtype: int64\n",
            "\n",
            "\n",
            "Value of counts of is_discount\n",
            "\n",
            "YES    315\n",
            "NO     185\n",
            "Name: is_discount, dtype: int64\n",
            "\n",
            "\n",
            "Value of counts of price_range\n",
            "\n",
            "1250-1500    229\n",
            "1500-1750    167\n",
            "1000-1250    104\n",
            "Name: price_range, dtype: int64\n",
            "\n",
            "\n",
            "Value of counts of sleeve_pattern\n",
            "\n",
            "Sleeveless    354\n",
            "Short         146\n",
            "Name: sleeve_pattern, dtype: int64\n",
            "\n",
            "\n",
            "Value of counts of material_design\n",
            "\n",
            "Floral    294\n",
            "Check      84\n",
            "Dotted     71\n",
            "Plain      51\n",
            "Name: material_design, dtype: int64\n",
            "\n",
            "\n",
            "Value of counts of measurement_type\n",
            "\n",
            "Ready-made    336\n",
            "Customized    164\n",
            "Name: measurement_type, dtype: int64\n",
            "\n",
            "\n",
            "Value of counts of collar_type\n",
            "\n",
            "Collarless          446\n",
            "Peter pan collar     54\n",
            "Name: collar_type, dtype: int64\n",
            "\n",
            "\n",
            "Value of counts of has_hairband\n",
            "\n",
            "No     426\n",
            "Yes     74\n",
            "Name: has_hairband, dtype: int64\n",
            "\n",
            "\n",
            "Value of counts of extra_features\n",
            "\n",
            "Bow        344\n",
            "None        67\n",
            "Buttons     53\n",
            "Zipper      36\n",
            "Name: extra_features, dtype: int64\n",
            "\n",
            "\n"
          ],
          "name": "stdout"
        }
      ]
    },
    {
      "cell_type": "code",
      "metadata": {
        "colab": {
          "base_uri": "https://localhost:8080/"
        },
        "id": "fMvu8rZIV5s-",
        "outputId": "41ade4ad-66eb-4ea6-82c4-ae6362f11cbb"
      },
      "source": [
        "for col in df.drop([\"discount_amount\",\"price\",\"age_range\"],axis=\"columns\"):\n",
        "    print(f\"{col} and age_range tabulation\\n\")\n",
        "    print(pd.crosstab(df[col],df.loc[:,\"age_range\"]))\n",
        "    print(\"\\n\")"
      ],
      "execution_count": 10,
      "outputs": [
        {
          "output_type": "stream",
          "text": [
            "color and age_range tabulation\n",
            "\n",
            "age_range  20-30  30-40  40-50  50-60  60-70\n",
            "color                                       \n",
            "Black         17      7      4      2      6\n",
            "Blue           0     33     16     14      0\n",
            "Cream          0      3      0      4      0\n",
            "Flower         0      9      5      1      0\n",
            "Green         20      6      1      2      3\n",
            "Orange         0     13      5      4      0\n",
            "Pink          55     13      2      3     11\n",
            "Red            5     63     29     17      1\n",
            "White          0     13      7      3      0\n",
            "Yellow        39     25     20     10      9\n",
            "\n",
            "\n",
            "material_type and age_range tabulation\n",
            "\n",
            "age_range      20-30  30-40  40-50  50-60  60-70\n",
            "material_type                                   \n",
            "Cotton           136    149     73     42     30\n",
            "Denim              0     23      8      8      0\n",
            "Linen              0     13      8     10      0\n",
            "\n",
            "\n",
            "is_discount and age_range tabulation\n",
            "\n",
            "age_range    20-30  30-40  40-50  50-60  60-70\n",
            "is_discount                                   \n",
            "NO              90     56     22     15      2\n",
            "YES             46    129     67     45     28\n",
            "\n",
            "\n",
            "price_range and age_range tabulation\n",
            "\n",
            "age_range    20-30  30-40  40-50  50-60  60-70\n",
            "price_range                                   \n",
            "1000-1250       21     40     15     15     13\n",
            "1250-1500       76     73     40     29     11\n",
            "1500-1750       39     72     34     16      6\n",
            "\n",
            "\n",
            "sleeve_pattern and age_range tabulation\n",
            "\n",
            "age_range       20-30  30-40  40-50  50-60  60-70\n",
            "sleeve_pattern                                   \n",
            "Short              75     35     10     12     14\n",
            "Sleeveless         61    150     79     48     16\n",
            "\n",
            "\n",
            "material_design and age_range tabulation\n",
            "\n",
            "age_range        20-30  30-40  40-50  50-60  60-70\n",
            "material_design                                   \n",
            "Check                2     43     23     15      1\n",
            "Dotted              23     23      9     10      6\n",
            "Floral              87    106     50     32     19\n",
            "Plain               24     13      7      3      4\n",
            "\n",
            "\n",
            "measurement_type and age_range tabulation\n",
            "\n",
            "age_range         20-30  30-40  40-50  50-60  60-70\n",
            "measurement_type                                   \n",
            "Customized           57     33     38     19     17\n",
            "Ready-made           79    152     51     41     13\n",
            "\n",
            "\n",
            "collar_type and age_range tabulation\n",
            "\n",
            "age_range         20-30  30-40  40-50  50-60  60-70\n",
            "collar_type                                        \n",
            "Collarless          116    166     83     54     27\n",
            "Peter pan collar     20     19      6      6      3\n",
            "\n",
            "\n",
            "has_hairband and age_range tabulation\n",
            "\n",
            "age_range     20-30  30-40  40-50  50-60  60-70\n",
            "has_hairband                                   \n",
            "No               91    169     83     54     29\n",
            "Yes              45     16      6      6      1\n",
            "\n",
            "\n",
            "extra_features and age_range tabulation\n",
            "\n",
            "age_range       20-30  30-40  40-50  50-60  60-70\n",
            "extra_features                                   \n",
            "Bow                99    124     65     35     21\n",
            "Buttons            15     19      7      8      4\n",
            "None               22     23     10      7      5\n",
            "Zipper              0     19      7     10      0\n",
            "\n",
            "\n"
          ],
          "name": "stdout"
        }
      ]
    },
    {
      "cell_type": "code",
      "metadata": {
        "id": "fOX-XB_5V8Q-"
      },
      "source": [
        ""
      ],
      "execution_count": null,
      "outputs": []
    },
    {
      "cell_type": "markdown",
      "metadata": {
        "id": "RSuL1RBLWAio"
      },
      "source": [
        "## Data Preprocessing"
      ]
    },
    {
      "cell_type": "code",
      "metadata": {
        "id": "zoDiCa0TWDAg"
      },
      "source": [
        "y = df[\"age_range\"]\n",
        "le = LabelEncoder()\n",
        "y = le.fit_transform(y)"
      ],
      "execution_count": 15,
      "outputs": []
    },
    {
      "cell_type": "code",
      "metadata": {
        "id": "OF57Z3s5WIfg"
      },
      "source": [
        "X = df.drop([\"age_range\"],axis=\"columns\")\n",
        "X_cat = df.drop([\"discount_amount\",\"price\",\"age_range\"],axis=\"columns\")\n",
        "X_num = df.loc[:,[\"discount_amount\",\"price\"]]\n",
        "X = pd.concat([X_num,pd.get_dummies(X_cat)],axis=\"columns\")"
      ],
      "execution_count": 16,
      "outputs": []
    },
    {
      "cell_type": "markdown",
      "metadata": {
        "id": "QaDwzfEUWMeY"
      },
      "source": [
        "## Split Dataset"
      ]
    },
    {
      "cell_type": "code",
      "metadata": {
        "id": "KaECq0BEZ5Jk"
      },
      "source": [
        "X_train, X_test, y_train, y_test = train_test_split(X,y,train_size = 0.8,test_size = 0.2,random_state=42)"
      ],
      "execution_count": 17,
      "outputs": []
    },
    {
      "cell_type": "code",
      "metadata": {
        "colab": {
          "base_uri": "https://localhost:8080/"
        },
        "id": "4kBh4yKeaKcc",
        "outputId": "38d51151-7245-4883-bebe-9131093941cd"
      },
      "source": [
        "print(X_train.shape)\n",
        "print(X_test.shape)"
      ],
      "execution_count": 18,
      "outputs": [
        {
          "output_type": "stream",
          "text": [
            "(400, 36)\n",
            "(100, 36)\n"
          ],
          "name": "stdout"
        }
      ]
    },
    {
      "cell_type": "code",
      "metadata": {
        "id": "oJWW5bXnaOAl"
      },
      "source": [
        "def evaluate_model(model,X_test,y_test):\n",
        "    preds = model.predict(X_test)\n",
        "    print(f\"F! Score is {round(f1_score(y_test,preds,average='macro'),4)}\")\n",
        "    print(f\"Accuracy is {round(accuracy_score(y_test,preds),4)}\")\n",
        "    print(f\"Precision Score is {round(precision_score(y_test,preds,average='macro'),4)}\")\n",
        "    print(f\"Recall Score is {round(recall_score(y_test,preds,average='macro'),4)}\")\n",
        "    print(confusion_matrix(y_test,preds))"
      ],
      "execution_count": 19,
      "outputs": []
    },
    {
      "cell_type": "markdown",
      "metadata": {
        "id": "kiHSsMGNaRNZ"
      },
      "source": [
        "# K Nearest Neighbors"
      ]
    },
    {
      "cell_type": "markdown",
      "metadata": {
        "id": "UWFg_w1qaje0"
      },
      "source": [
        "When K = 7"
      ]
    },
    {
      "cell_type": "code",
      "metadata": {
        "id": "ys7u_WNRao2W",
        "colab": {
          "base_uri": "https://localhost:8080/"
        },
        "outputId": "1ff9dcfd-93f4-4fd1-f8fe-92dca9eae119"
      },
      "source": [
        "knn_model = KNeighborsClassifier(n_neighbors = 7)\n",
        "knn_model = knn_model.fit(X_train,y_train)\n",
        "evaluate_model(knn_model,X_test,y_test)"
      ],
      "execution_count": 21,
      "outputs": [
        {
          "output_type": "stream",
          "text": [
            "F! Score is 0.3868\n",
            "Accuracy is 0.5\n",
            "Precision Score is 0.5586\n",
            "Recall Score is 0.3722\n",
            "[[21  5  4  0  0]\n",
            " [10 24  1  1  0]\n",
            " [ 1 15  2  1  0]\n",
            " [ 1  5  1  2  0]\n",
            " [ 2  2  1  0  1]]\n"
          ],
          "name": "stdout"
        }
      ]
    },
    {
      "cell_type": "code",
      "metadata": {
        "colab": {
          "base_uri": "https://localhost:8080/",
          "height": 278
        },
        "id": "_J1grjlGHG5f",
        "outputId": "6e1d5d8d-f6be-4581-e2ee-9dca589dcd7c"
      },
      "source": [
        "plot_confusion_matrix(knn_model,X_test,y_test).figure_.savefig(\"cm_knn.png\",dpi=300)"
      ],
      "execution_count": 26,
      "outputs": [
        {
          "output_type": "display_data",
          "data": {
            "image/png": "[encoded data removed]",
            "text/plain": [
              "<Figure size 432x288 with 2 Axes>"
            ]
          },
          "metadata": {
            "tags": [],
            "needs_background": "light"
          }
        }
      ]
    },
    {
      "cell_type": "code",
      "metadata": {
        "colab": {
          "base_uri": "https://localhost:8080/"
        },
        "id": "Ox1fvaXlHzFJ",
        "outputId": "ce3faab3-3e25-4657-d59e-912fd6718452"
      },
      "source": [
        "print(classification_report(y_test, knn_model.predict(X_test)))"
      ],
      "execution_count": 27,
      "outputs": [
        {
          "output_type": "stream",
          "text": [
            "              precision    recall  f1-score   support\n",
            "\n",
            "           0       0.60      0.70      0.65        30\n",
            "           1       0.47      0.67      0.55        36\n",
            "           2       0.22      0.11      0.14        19\n",
            "           3       0.50      0.22      0.31         9\n",
            "           4       1.00      0.17      0.29         6\n",
            "\n",
            "    accuracy                           0.50       100\n",
            "   macro avg       0.56      0.37      0.39       100\n",
            "weighted avg       0.50      0.50      0.46       100\n",
            "\n"
          ],
          "name": "stdout"
        }
      ]
    },
    {
      "cell_type": "markdown",
      "metadata": {
        "id": "d2fgXaIPbvcF"
      },
      "source": [
        "# Decision Tree"
      ]
    },
    {
      "cell_type": "code",
      "metadata": {
        "id": "FEbs8A3Ob2JX"
      },
      "source": [
        "dt_model = DecisionTreeClassifier(ccp_alpha=0.005)\n",
        "dt_model = dt_model.fit(X_train,y_train)"
      ],
      "execution_count": 28,
      "outputs": []
    },
    {
      "cell_type": "code",
      "metadata": {
        "colab": {
          "base_uri": "https://localhost:8080/"
        },
        "id": "_cfZCJY7b58k",
        "outputId": "64c8de0d-9fd4-4b5b-a922-8ddfc935320c"
      },
      "source": [
        "evaluate_model(dt_model,X_test,y_test)"
      ],
      "execution_count": 29,
      "outputs": [
        {
          "output_type": "stream",
          "text": [
            "F! Score is 0.4402\n",
            "Accuracy is 0.58\n",
            "Precision Score is 0.4602\n",
            "Recall Score is 0.4342\n",
            "[[25  2  1  0  2]\n",
            " [ 4 23  4  4  1]\n",
            " [ 0 11  8  0  0]\n",
            " [ 0  6  2  1  0]\n",
            " [ 2  3  0  0  1]]\n"
          ],
          "name": "stdout"
        }
      ]
    },
    {
      "cell_type": "code",
      "metadata": {
        "id": "JsHR_qGpb91b"
      },
      "source": [
        "path = dt_model.cost_complexity_pruning_path(X_train, y_train)\n",
        "ccp_alphas, impurities = path.ccp_alphas, path.impurities"
      ],
      "execution_count": 30,
      "outputs": []
    },
    {
      "cell_type": "code",
      "metadata": {
        "colab": {
          "base_uri": "https://localhost:8080/",
          "height": 312
        },
        "id": "OF-PfibUkJV7",
        "outputId": "a423a0ac-b011-4468-fdcd-89229c57ad2a"
      },
      "source": [
        "import matplotlib.pyplot as plt\n",
        "fig, ax = plt.subplots()\n",
        "ax.plot(ccp_alphas[:-1], impurities[:-1], marker='o', drawstyle=\"steps-post\")\n",
        "ax.set_xlabel(\"effective alpha\")\n",
        "ax.set_ylabel(\"total impurity of leaves\")\n",
        "ax.set_title(\"Total Impurity vs effective alpha for training set\")"
      ],
      "execution_count": 31,
      "outputs": [
        {
          "output_type": "execute_result",
          "data": {
            "text/plain": [
              "Text(0.5, 1.0, 'Total Impurity vs effective alpha for training set')"
            ]
          },
          "metadata": {
            "tags": []
          },
          "execution_count": 31
        },
        {
          "output_type": "display_data",
          "data": {
            "image/png": "[encoded data removed]",
            "text/plain": [
              "<Figure size 432x288 with 1 Axes>"
            ]
          },
          "metadata": {
            "tags": [],
            "needs_background": "light"
          }
        }
      ]
    },
    {
      "cell_type": "code",
      "metadata": {
        "id": "dwDixqF1kMo7"
      },
      "source": [
        "clfs = []\n",
        "for ccp_alpha in ccp_alphas:\n",
        "    clf = DecisionTreeClassifier(random_state=0, ccp_alpha=ccp_alpha)\n",
        "    clf.fit(X_train, y_train)\n",
        "    clfs.append(clf)"
      ],
      "execution_count": 32,
      "outputs": []
    },
    {
      "cell_type": "code",
      "metadata": {
        "colab": {
          "base_uri": "https://localhost:8080/",
          "height": 294
        },
        "id": "hAdRilNskPVz",
        "outputId": "d09d5d00-f721-4ebe-9dbf-4673477a0159"
      },
      "source": [
        "train_scores = [clf.score(X_train, y_train) for clf in clfs]\n",
        "test_scores = [clf.score(X_test, y_test) for clf in clfs]\n",
        "\n",
        "fig, ax = plt.subplots()\n",
        "ax.set_xlabel(\"alpha\")\n",
        "ax.set_ylabel(\"accuracy\")\n",
        "ax.set_title(\"Accuracy vs alpha for training and testing sets\")\n",
        "ax.plot(ccp_alphas, train_scores, marker='o', label=\"train\",\n",
        "        drawstyle=\"steps-post\")\n",
        "ax.plot(ccp_alphas, test_scores, marker='o', label=\"test\",\n",
        "        drawstyle=\"steps-post\")\n",
        "ax.legend()\n",
        "plt.show()\n",
        "fig.savefig(\"alpha_dt.png\",dpi=300)"
      ],
      "execution_count": 33,
      "outputs": [
        {
          "output_type": "display_data",
          "data": {
            "image/png": "[encoded data removed]",
            "text/plain": [
              "<Figure size 432x288 with 1 Axes>"
            ]
          },
          "metadata": {
            "tags": [],
            "needs_background": "light"
          }
        }
      ]
    },
    {
      "cell_type": "code",
      "metadata": {
        "colab": {
          "base_uri": "https://localhost:8080/",
          "height": 296
        },
        "id": "zUert3CkkUt-",
        "outputId": "85188f42-d8d8-4648-a172-51a7d7d39261"
      },
      "source": [
        "plot_confusion_matrix(dt_model,X_train,y_train)"
      ],
      "execution_count": 34,
      "outputs": [
        {
          "output_type": "execute_result",
          "data": {
            "text/plain": [
              "<sklearn.metrics._plot.confusion_matrix.ConfusionMatrixDisplay at 0x7f6c82eb3910>"
            ]
          },
          "metadata": {
            "tags": []
          },
          "execution_count": 34
        },
        {
          "output_type": "display_data",
          "data": {
            "image/png": "[encoded data removed]",
            "text/plain": [
              "<Figure size 432x288 with 2 Axes>"
            ]
          },
          "metadata": {
            "tags": [],
            "needs_background": "light"
          }
        }
      ]
    },
    {
      "cell_type": "code",
      "metadata": {
        "colab": {
          "base_uri": "https://localhost:8080/",
          "height": 283
        },
        "id": "T-M1-eO7kYiE",
        "outputId": "8eb94c7f-2840-42d3-b5bf-ac1e6162ecfe"
      },
      "source": [
        "plot_confusion_matrix(dt_model,X_test,y_test).figure_.savefig(\"cm_dt.png\",dpi=300)\n"
      ],
      "execution_count": 35,
      "outputs": [
        {
          "output_type": "display_data",
          "data": {
            "image/png": "[encoded data removed]",
            "text/plain": [
              "<Figure size 432x288 with 2 Axes>"
            ]
          },
          "metadata": {
            "tags": [],
            "needs_background": "light"
          }
        }
      ]
    },
    {
      "cell_type": "code",
      "metadata": {
        "colab": {
          "base_uri": "https://localhost:8080/",
          "height": 1000
        },
        "id": "0GCBBsOykf-t",
        "outputId": "bcf0c69d-fad0-4375-ce83-08ab30342c5e"
      },
      "source": [
        "fig = export_graphviz(dt_model, out_file = None,\n",
        "                      feature_names=X.columns.values, class_names=df.age_range.unique(), filled=True)\n",
        "graph = graphviz.Source(fig, format=\"png\") \n",
        "graph"
      ],
      "execution_count": 36,
      "outputs": [
        {
          "output_type": "execute_result",
          "data": {
            "text/plain": [
              "<graphviz.files.Source at 0x7f6c82dcda90>"
            ],
            "image/svg+xml": "<?xml version=\"1.0\" encoding=\"UTF-8\" standalone=\"no\"?>\n<!DOCTYPE svg PUBLIC \"-//W3C//DTD SVG 1.1//EN\"\n \"http://www.w3.org/Graphics/SVG/1.1/DTD/svg11.dtd\">\n<!-- Generated by graphviz version 2.40.1 (20161225.0304)\n -->\n<!-- Title: Tree Pages: 1 -->\n<svg width=\"1821pt\" height=\"1266pt\"\n viewBox=\"0.00 0.00 1821.00 1266.00\" xmlns=\"http://www.w3.org/2000/svg\" xmlns:xlink=\"http://www.w3.org/1999/xlink\">\n<g id=\"graph0\" class=\"graph\" transform=\"scale(1 1) rotate(0) translate(4 1262)\">\n<title>Tree</title>\n<polygon fill=\"#ffffff\" stroke=\"transparent\" points=\"-4,4 -4,-1262 1817,-1262 1817,4 -4,4\"/>\n<!-- 0 -->\n<g id=\"node1\" class=\"node\">\n<title>0</title>\n<polygon fill=\"#ecfbe2\" stroke=\"#000000\" points=\"1406,-1258 1214,-1258 1214,-1175 1406,-1175 1406,-1258\"/>\n<text text-anchor=\"middle\" x=\"1310\" y=\"-1242.8\" font-family=\"Times,serif\" font-size=\"14.00\" fill=\"#000000\">color_Pink &lt;= 0.5</text>\n<text text-anchor=\"middle\" x=\"1310\" y=\"-1227.8\" font-family=\"Times,serif\" font-size=\"14.00\" fill=\"#000000\">gini = 0.741</text>\n<text text-anchor=\"middle\" x=\"1310\" y=\"-1212.8\" font-family=\"Times,serif\" font-size=\"14.00\" fill=\"#000000\">samples = 400</text>\n<text text-anchor=\"middle\" x=\"1310\" y=\"-1197.8\" font-family=\"Times,serif\" font-size=\"14.00\" fill=\"#000000\">value = [106, 149, 70, 51, 24]</text>\n<text text-anchor=\"middle\" x=\"1310\" y=\"-1182.8\" font-family=\"Times,serif\" font-size=\"14.00\" fill=\"#000000\">class = 20&#45;30</text>\n</g>\n<!-- 1 -->\n<g id=\"node2\" class=\"node\">\n<title>1</title>\n<polygon fill=\"#dbf8c8\" stroke=\"#000000\" points=\"1307.5,-1139 1122.5,-1139 1122.5,-1056 1307.5,-1056 1307.5,-1139\"/>\n<text text-anchor=\"middle\" x=\"1215\" y=\"-1123.8\" font-family=\"Times,serif\" font-size=\"14.00\" fill=\"#000000\">color_Yellow &lt;= 0.5</text>\n<text text-anchor=\"middle\" x=\"1215\" y=\"-1108.8\" font-family=\"Times,serif\" font-size=\"14.00\" fill=\"#000000\">gini = 0.722</text>\n<text text-anchor=\"middle\" x=\"1215\" y=\"-1093.8\" font-family=\"Times,serif\" font-size=\"14.00\" fill=\"#000000\">samples = 333</text>\n<text text-anchor=\"middle\" x=\"1215\" y=\"-1078.8\" font-family=\"Times,serif\" font-size=\"14.00\" fill=\"#000000\">value = [62, 141, 68, 48, 14]</text>\n<text text-anchor=\"middle\" x=\"1215\" y=\"-1063.8\" font-family=\"Times,serif\" font-size=\"14.00\" fill=\"#000000\">class = 20&#45;30</text>\n</g>\n<!-- 0&#45;&gt;1 -->\n<g id=\"edge1\" class=\"edge\">\n<title>0&#45;&gt;1</title>\n<path fill=\"none\" stroke=\"#000000\" d=\"M1276.7736,-1174.8796C1269.6556,-1165.9633 1262.0661,-1156.4565 1254.7308,-1147.268\"/>\n<polygon fill=\"#000000\" stroke=\"#000000\" points=\"1257.3425,-1144.9295 1248.3682,-1139.2981 1251.8719,-1149.2968 1257.3425,-1144.9295\"/>\n<text text-anchor=\"middle\" x=\"1245.5819\" y=\"-1160.4423\" font-family=\"Times,serif\" font-size=\"14.00\" fill=\"#000000\">True</text>\n</g>\n<!-- 38 -->\n<g id=\"node39\" class=\"node\">\n<title>38</title>\n<polygon fill=\"#efb489\" stroke=\"#000000\" points=\"1484.5,-1139 1325.5,-1139 1325.5,-1056 1484.5,-1056 1484.5,-1139\"/>\n<text text-anchor=\"middle\" x=\"1405\" y=\"-1123.8\" font-family=\"Times,serif\" font-size=\"14.00\" fill=\"#000000\">discount_amount &lt;= 5.0</text>\n<text text-anchor=\"middle\" x=\"1405\" y=\"-1108.8\" font-family=\"Times,serif\" font-size=\"14.00\" fill=\"#000000\">gini = 0.529</text>\n<text text-anchor=\"middle\" x=\"1405\" y=\"-1093.8\" font-family=\"Times,serif\" font-size=\"14.00\" fill=\"#000000\">samples = 67</text>\n<text text-anchor=\"middle\" x=\"1405\" y=\"-1078.8\" font-family=\"Times,serif\" font-size=\"14.00\" fill=\"#000000\">value = [44, 8, 2, 3, 10]</text>\n<text text-anchor=\"middle\" x=\"1405\" y=\"-1063.8\" font-family=\"Times,serif\" font-size=\"14.00\" fill=\"#000000\">class = 50&#45;60</text>\n</g>\n<!-- 0&#45;&gt;38 -->\n<g id=\"edge38\" class=\"edge\">\n<title>0&#45;&gt;38</title>\n<path fill=\"none\" stroke=\"#000000\" d=\"M1343.2264,-1174.8796C1350.3444,-1165.9633 1357.9339,-1156.4565 1365.2692,-1147.268\"/>\n<polygon fill=\"#000000\" stroke=\"#000000\" points=\"1368.1281,-1149.2968 1371.6318,-1139.2981 1362.6575,-1144.9295 1368.1281,-1149.2968\"/>\n<text text-anchor=\"middle\" x=\"1374.4181\" y=\"-1160.4423\" font-family=\"Times,serif\" font-size=\"14.00\" fill=\"#000000\">False</text>\n</g>\n<!-- 2 -->\n<g id=\"node3\" class=\"node\">\n<title>2</title>\n<polygon fill=\"#d2f6bb\" stroke=\"#000000\" points=\"1096.5,-1020 919.5,-1020 919.5,-937 1096.5,-937 1096.5,-1020\"/>\n<text text-anchor=\"middle\" x=\"1008\" y=\"-1004.8\" font-family=\"Times,serif\" font-size=\"14.00\" fill=\"#000000\">color_Green &lt;= 0.5</text>\n<text text-anchor=\"middle\" x=\"1008\" y=\"-989.8\" font-family=\"Times,serif\" font-size=\"14.00\" fill=\"#000000\">gini = 0.683</text>\n<text text-anchor=\"middle\" x=\"1008\" y=\"-974.8\" font-family=\"Times,serif\" font-size=\"14.00\" fill=\"#000000\">samples = 249</text>\n<text text-anchor=\"middle\" x=\"1008\" y=\"-959.8\" font-family=\"Times,serif\" font-size=\"14.00\" fill=\"#000000\">value = [30, 120, 53, 39, 7]</text>\n<text text-anchor=\"middle\" x=\"1008\" y=\"-944.8\" font-family=\"Times,serif\" font-size=\"14.00\" fill=\"#000000\">class = 20&#45;30</text>\n</g>\n<!-- 1&#45;&gt;2 -->\n<g id=\"edge2\" class=\"edge\">\n<title>1&#45;&gt;2</title>\n<path fill=\"none\" stroke=\"#000000\" d=\"M1142.6014,-1055.8796C1125.4257,-1046.0056 1106.9903,-1035.4075 1089.442,-1025.3193\"/>\n<polygon fill=\"#000000\" stroke=\"#000000\" points=\"1090.7716,-1022.0466 1080.3577,-1020.0969 1087.2828,-1028.1152 1090.7716,-1022.0466\"/>\n</g>\n<!-- 27 -->\n<g id=\"node28\" class=\"node\">\n<title>27</title>\n<polygon fill=\"#fae9dc\" stroke=\"#000000\" points=\"1302.5,-1020 1135.5,-1020 1135.5,-937 1302.5,-937 1302.5,-1020\"/>\n<text text-anchor=\"middle\" x=\"1219\" y=\"-1004.8\" font-family=\"Times,serif\" font-size=\"14.00\" fill=\"#000000\">discount_amount &lt;= 17.5</text>\n<text text-anchor=\"middle\" x=\"1219\" y=\"-989.8\" font-family=\"Times,serif\" font-size=\"14.00\" fill=\"#000000\">gini = 0.742</text>\n<text text-anchor=\"middle\" x=\"1219\" y=\"-974.8\" font-family=\"Times,serif\" font-size=\"14.00\" fill=\"#000000\">samples = 84</text>\n<text text-anchor=\"middle\" x=\"1219\" y=\"-959.8\" font-family=\"Times,serif\" font-size=\"14.00\" fill=\"#000000\">value = [32, 21, 15, 9, 7]</text>\n<text text-anchor=\"middle\" x=\"1219\" y=\"-944.8\" font-family=\"Times,serif\" font-size=\"14.00\" fill=\"#000000\">class = 50&#45;60</text>\n</g>\n<!-- 1&#45;&gt;27 -->\n<g id=\"edge27\" class=\"edge\">\n<title>1&#45;&gt;27</title>\n<path fill=\"none\" stroke=\"#000000\" d=\"M1216.399,-1055.8796C1216.6745,-1047.6838 1216.9668,-1038.9891 1217.2521,-1030.5013\"/>\n<polygon fill=\"#000000\" stroke=\"#000000\" points=\"1220.757,-1030.41 1217.595,-1020.2981 1213.761,-1030.1748 1220.757,-1030.41\"/>\n</g>\n<!-- 3 -->\n<g id=\"node4\" class=\"node\">\n<title>3</title>\n<polygon fill=\"#cef5b5\" stroke=\"#000000\" points=\"835,-901 659,-901 659,-818 835,-818 835,-901\"/>\n<text text-anchor=\"middle\" x=\"747\" y=\"-885.8\" font-family=\"Times,serif\" font-size=\"14.00\" fill=\"#000000\">color_Black &lt;= 0.5</text>\n<text text-anchor=\"middle\" x=\"747\" y=\"-870.8\" font-family=\"Times,serif\" font-size=\"14.00\" fill=\"#000000\">gini = 0.647</text>\n<text text-anchor=\"middle\" x=\"747\" y=\"-855.8\" font-family=\"Times,serif\" font-size=\"14.00\" fill=\"#000000\">samples = 226</text>\n<text text-anchor=\"middle\" x=\"747\" y=\"-840.8\" font-family=\"Times,serif\" font-size=\"14.00\" fill=\"#000000\">value = [16, 117, 52, 37, 4]</text>\n<text text-anchor=\"middle\" x=\"747\" y=\"-825.8\" font-family=\"Times,serif\" font-size=\"14.00\" fill=\"#000000\">class = 20&#45;30</text>\n</g>\n<!-- 2&#45;&gt;3 -->\n<g id=\"edge3\" class=\"edge\">\n<title>2&#45;&gt;3</title>\n<path fill=\"none\" stroke=\"#000000\" d=\"M919.2731,-938.046C895.1616,-927.0526 868.9232,-915.0895 844.3619,-903.8911\"/>\n<polygon fill=\"#000000\" stroke=\"#000000\" points=\"845.5895,-900.6042 835.0386,-899.6402 842.6855,-906.9734 845.5895,-900.6042\"/>\n</g>\n<!-- 26 -->\n<g id=\"node27\" class=\"node\">\n<title>26</title>\n<polygon fill=\"#f1ba92\" stroke=\"#000000\" points=\"1081.5,-893.5 934.5,-893.5 934.5,-825.5 1081.5,-825.5 1081.5,-893.5\"/>\n<text text-anchor=\"middle\" x=\"1008\" y=\"-878.3\" font-family=\"Times,serif\" font-size=\"14.00\" fill=\"#000000\">gini = 0.586</text>\n<text text-anchor=\"middle\" x=\"1008\" y=\"-863.3\" font-family=\"Times,serif\" font-size=\"14.00\" fill=\"#000000\">samples = 23</text>\n<text text-anchor=\"middle\" x=\"1008\" y=\"-848.3\" font-family=\"Times,serif\" font-size=\"14.00\" fill=\"#000000\">value = [14, 3, 1, 2, 3]</text>\n<text text-anchor=\"middle\" x=\"1008\" y=\"-833.3\" font-family=\"Times,serif\" font-size=\"14.00\" fill=\"#000000\">class = 50&#45;60</text>\n</g>\n<!-- 2&#45;&gt;26 -->\n<g id=\"edge26\" class=\"edge\">\n<title>2&#45;&gt;26</title>\n<path fill=\"none\" stroke=\"#000000\" d=\"M1008,-936.8796C1008,-926.2134 1008,-914.7021 1008,-903.9015\"/>\n<polygon fill=\"#000000\" stroke=\"#000000\" points=\"1011.5001,-903.8149 1008,-893.8149 1004.5001,-903.815 1011.5001,-903.8149\"/>\n</g>\n<!-- 4 -->\n<g id=\"node5\" class=\"node\">\n<title>4</title>\n<polygon fill=\"#c7f4ab\" stroke=\"#000000\" points=\"630,-782 384,-782 384,-699 630,-699 630,-782\"/>\n<text text-anchor=\"middle\" x=\"507\" y=\"-766.8\" font-family=\"Times,serif\" font-size=\"14.00\" fill=\"#000000\">measurement_type_Ready&#45;made &lt;= 0.5</text>\n<text text-anchor=\"middle\" x=\"507\" y=\"-751.8\" font-family=\"Times,serif\" font-size=\"14.00\" fill=\"#000000\">gini = 0.594</text>\n<text text-anchor=\"middle\" x=\"507\" y=\"-736.8\" font-family=\"Times,serif\" font-size=\"14.00\" fill=\"#000000\">samples = 199</text>\n<text text-anchor=\"middle\" x=\"507\" y=\"-721.8\" font-family=\"Times,serif\" font-size=\"14.00\" fill=\"#000000\">value = [4, 112, 48, 35, 0]</text>\n<text text-anchor=\"middle\" x=\"507\" y=\"-706.8\" font-family=\"Times,serif\" font-size=\"14.00\" fill=\"#000000\">class = 20&#45;30</text>\n</g>\n<!-- 3&#45;&gt;4 -->\n<g id=\"edge4\" class=\"edge\">\n<title>3&#45;&gt;4</title>\n<path fill=\"none\" stroke=\"#000000\" d=\"M663.0596,-817.8796C642.689,-807.7791 620.7901,-796.9209 600.0273,-786.626\"/>\n<polygon fill=\"#000000\" stroke=\"#000000\" points=\"601.4069,-783.4035 590.893,-782.0969 598.2973,-789.6749 601.4069,-783.4035\"/>\n</g>\n<!-- 21 -->\n<g id=\"node22\" class=\"node\">\n<title>21</title>\n<polygon fill=\"#f7d7c0\" stroke=\"#000000\" points=\"820.5,-782 673.5,-782 673.5,-699 820.5,-699 820.5,-782\"/>\n<text text-anchor=\"middle\" x=\"747\" y=\"-766.8\" font-family=\"Times,serif\" font-size=\"14.00\" fill=\"#000000\">price &lt;= 1475.0</text>\n<text text-anchor=\"middle\" x=\"747\" y=\"-751.8\" font-family=\"Times,serif\" font-size=\"14.00\" fill=\"#000000\">gini = 0.719</text>\n<text text-anchor=\"middle\" x=\"747\" y=\"-736.8\" font-family=\"Times,serif\" font-size=\"14.00\" fill=\"#000000\">samples = 27</text>\n<text text-anchor=\"middle\" x=\"747\" y=\"-721.8\" font-family=\"Times,serif\" font-size=\"14.00\" fill=\"#000000\">value = [12, 5, 4, 2, 4]</text>\n<text text-anchor=\"middle\" x=\"747\" y=\"-706.8\" font-family=\"Times,serif\" font-size=\"14.00\" fill=\"#000000\">class = 50&#45;60</text>\n</g>\n<!-- 3&#45;&gt;21 -->\n<g id=\"edge21\" class=\"edge\">\n<title>3&#45;&gt;21</title>\n<path fill=\"none\" stroke=\"#000000\" d=\"M747,-817.8796C747,-809.6838 747,-800.9891 747,-792.5013\"/>\n<polygon fill=\"#000000\" stroke=\"#000000\" points=\"750.5001,-792.298 747,-782.2981 743.5001,-792.2981 750.5001,-792.298\"/>\n</g>\n<!-- 5 -->\n<g id=\"node6\" class=\"node\">\n<title>5</title>\n<polygon fill=\"#f4fefc\" stroke=\"#000000\" points=\"408,-655.5 246,-655.5 246,-587.5 408,-587.5 408,-655.5\"/>\n<text text-anchor=\"middle\" x=\"327\" y=\"-640.3\" font-family=\"Times,serif\" font-size=\"14.00\" fill=\"#000000\">gini = 0.671</text>\n<text text-anchor=\"middle\" x=\"327\" y=\"-625.3\" font-family=\"Times,serif\" font-size=\"14.00\" fill=\"#000000\">samples = 56</text>\n<text text-anchor=\"middle\" x=\"327\" y=\"-610.3\" font-family=\"Times,serif\" font-size=\"14.00\" fill=\"#000000\">value = [2, 20, 22, 12, 0]</text>\n<text text-anchor=\"middle\" x=\"327\" y=\"-595.3\" font-family=\"Times,serif\" font-size=\"14.00\" fill=\"#000000\">class = 30&#45;40</text>\n</g>\n<!-- 4&#45;&gt;5 -->\n<g id=\"edge5\" class=\"edge\">\n<title>4&#45;&gt;5</title>\n<path fill=\"none\" stroke=\"#000000\" d=\"M444.0447,-698.8796C425.6616,-686.7263 405.6189,-673.4759 387.3979,-661.4297\"/>\n<polygon fill=\"#000000\" stroke=\"#000000\" points=\"388.8867,-658.2183 378.6147,-655.623 385.0263,-664.0576 388.8867,-658.2183\"/>\n</g>\n<!-- 6 -->\n<g id=\"node7\" class=\"node\">\n<title>6</title>\n<polygon fill=\"#b5f08f\" stroke=\"#000000\" points=\"588,-663 426,-663 426,-580 588,-580 588,-663\"/>\n<text text-anchor=\"middle\" x=\"507\" y=\"-647.8\" font-family=\"Times,serif\" font-size=\"14.00\" fill=\"#000000\">price &lt;= 1410.0</text>\n<text text-anchor=\"middle\" x=\"507\" y=\"-632.8\" font-family=\"Times,serif\" font-size=\"14.00\" fill=\"#000000\">gini = 0.527</text>\n<text text-anchor=\"middle\" x=\"507\" y=\"-617.8\" font-family=\"Times,serif\" font-size=\"14.00\" fill=\"#000000\">samples = 143</text>\n<text text-anchor=\"middle\" x=\"507\" y=\"-602.8\" font-family=\"Times,serif\" font-size=\"14.00\" fill=\"#000000\">value = [2, 92, 26, 23, 0]</text>\n<text text-anchor=\"middle\" x=\"507\" y=\"-587.8\" font-family=\"Times,serif\" font-size=\"14.00\" fill=\"#000000\">class = 20&#45;30</text>\n</g>\n<!-- 4&#45;&gt;6 -->\n<g id=\"edge6\" class=\"edge\">\n<title>4&#45;&gt;6</title>\n<path fill=\"none\" stroke=\"#000000\" d=\"M507,-698.8796C507,-690.6838 507,-681.9891 507,-673.5013\"/>\n<polygon fill=\"#000000\" stroke=\"#000000\" points=\"510.5001,-673.298 507,-663.2981 503.5001,-673.2981 510.5001,-673.298\"/>\n</g>\n<!-- 7 -->\n<g id=\"node8\" class=\"node\">\n<title>7</title>\n<polygon fill=\"#cff6b7\" stroke=\"#000000\" points=\"385,-544 223,-544 223,-461 385,-461 385,-544\"/>\n<text text-anchor=\"middle\" x=\"304\" y=\"-528.8\" font-family=\"Times,serif\" font-size=\"14.00\" fill=\"#000000\">price &lt;= 1175.0</text>\n<text text-anchor=\"middle\" x=\"304\" y=\"-513.8\" font-family=\"Times,serif\" font-size=\"14.00\" fill=\"#000000\">gini = 0.629</text>\n<text text-anchor=\"middle\" x=\"304\" y=\"-498.8\" font-family=\"Times,serif\" font-size=\"14.00\" fill=\"#000000\">samples = 90</text>\n<text text-anchor=\"middle\" x=\"304\" y=\"-483.8\" font-family=\"Times,serif\" font-size=\"14.00\" fill=\"#000000\">value = [2, 46, 21, 21, 0]</text>\n<text text-anchor=\"middle\" x=\"304\" y=\"-468.8\" font-family=\"Times,serif\" font-size=\"14.00\" fill=\"#000000\">class = 20&#45;30</text>\n</g>\n<!-- 6&#45;&gt;7 -->\n<g id=\"edge7\" class=\"edge\">\n<title>6&#45;&gt;7</title>\n<path fill=\"none\" stroke=\"#000000\" d=\"M436.0005,-579.8796C419.1566,-570.0056 401.0774,-559.4075 383.8683,-549.3193\"/>\n<polygon fill=\"#000000\" stroke=\"#000000\" points=\"385.3565,-546.1347 374.9595,-544.0969 381.8164,-552.1736 385.3565,-546.1347\"/>\n</g>\n<!-- 18 -->\n<g id=\"node19\" class=\"node\">\n<title>18</title>\n<polygon fill=\"#8ee956\" stroke=\"#000000\" points=\"622.5,-544 403.5,-544 403.5,-461 622.5,-461 622.5,-544\"/>\n<text text-anchor=\"middle\" x=\"513\" y=\"-528.8\" font-family=\"Times,serif\" font-size=\"14.00\" fill=\"#000000\">collar_type_Peter pan collar &lt;= 0.5</text>\n<text text-anchor=\"middle\" x=\"513\" y=\"-513.8\" font-family=\"Times,serif\" font-size=\"14.00\" fill=\"#000000\">gini = 0.236</text>\n<text text-anchor=\"middle\" x=\"513\" y=\"-498.8\" font-family=\"Times,serif\" font-size=\"14.00\" fill=\"#000000\">samples = 53</text>\n<text text-anchor=\"middle\" x=\"513\" y=\"-483.8\" font-family=\"Times,serif\" font-size=\"14.00\" fill=\"#000000\">value = [0, 46, 5, 2, 0]</text>\n<text text-anchor=\"middle\" x=\"513\" y=\"-468.8\" font-family=\"Times,serif\" font-size=\"14.00\" fill=\"#000000\">class = 20&#45;30</text>\n</g>\n<!-- 6&#45;&gt;18 -->\n<g id=\"edge18\" class=\"edge\">\n<title>6&#45;&gt;18</title>\n<path fill=\"none\" stroke=\"#000000\" d=\"M509.0985,-579.8796C509.5117,-571.6838 509.9501,-562.9891 510.3781,-554.5013\"/>\n<polygon fill=\"#000000\" stroke=\"#000000\" points=\"513.8844,-554.4617 510.8925,-544.2981 506.8933,-554.1091 513.8844,-554.4617\"/>\n</g>\n<!-- 8 -->\n<g id=\"node9\" class=\"node\">\n<title>8</title>\n<polygon fill=\"#b6f192\" stroke=\"#000000\" points=\"213.5,-417.5 66.5,-417.5 66.5,-349.5 213.5,-349.5 213.5,-417.5\"/>\n<text text-anchor=\"middle\" x=\"140\" y=\"-402.3\" font-family=\"Times,serif\" font-size=\"14.00\" fill=\"#000000\">gini = 0.483</text>\n<text text-anchor=\"middle\" x=\"140\" y=\"-387.3\" font-family=\"Times,serif\" font-size=\"14.00\" fill=\"#000000\">samples = 27</text>\n<text text-anchor=\"middle\" x=\"140\" y=\"-372.3\" font-family=\"Times,serif\" font-size=\"14.00\" fill=\"#000000\">value = [0, 18, 7, 2, 0]</text>\n<text text-anchor=\"middle\" x=\"140\" y=\"-357.3\" font-family=\"Times,serif\" font-size=\"14.00\" fill=\"#000000\">class = 20&#45;30</text>\n</g>\n<!-- 7&#45;&gt;8 -->\n<g id=\"edge8\" class=\"edge\">\n<title>7&#45;&gt;8</title>\n<path fill=\"none\" stroke=\"#000000\" d=\"M246.6408,-460.8796C230.0439,-448.8368 211.9625,-435.7167 195.4824,-423.7586\"/>\n<polygon fill=\"#000000\" stroke=\"#000000\" points=\"197.176,-420.6632 187.0267,-417.623 193.0649,-426.3288 197.176,-420.6632\"/>\n</g>\n<!-- 9 -->\n<g id=\"node10\" class=\"node\">\n<title>9</title>\n<polygon fill=\"#e4fad6\" stroke=\"#000000\" points=\"394,-425 232,-425 232,-342 394,-342 394,-425\"/>\n<text text-anchor=\"middle\" x=\"313\" y=\"-409.8\" font-family=\"Times,serif\" font-size=\"14.00\" fill=\"#000000\">price &lt;= 1275.0</text>\n<text text-anchor=\"middle\" x=\"313\" y=\"-394.8\" font-family=\"Times,serif\" font-size=\"14.00\" fill=\"#000000\">gini = 0.661</text>\n<text text-anchor=\"middle\" x=\"313\" y=\"-379.8\" font-family=\"Times,serif\" font-size=\"14.00\" fill=\"#000000\">samples = 63</text>\n<text text-anchor=\"middle\" x=\"313\" y=\"-364.8\" font-family=\"Times,serif\" font-size=\"14.00\" fill=\"#000000\">value = [2, 28, 14, 19, 0]</text>\n<text text-anchor=\"middle\" x=\"313\" y=\"-349.8\" font-family=\"Times,serif\" font-size=\"14.00\" fill=\"#000000\">class = 20&#45;30</text>\n</g>\n<!-- 7&#45;&gt;9 -->\n<g id=\"edge9\" class=\"edge\">\n<title>7&#45;&gt;9</title>\n<path fill=\"none\" stroke=\"#000000\" d=\"M307.1478,-460.8796C307.7676,-452.6838 308.4252,-443.9891 309.0671,-435.5013\"/>\n<polygon fill=\"#000000\" stroke=\"#000000\" points=\"312.5746,-435.5336 309.8388,-425.2981 305.5945,-435.0056 312.5746,-435.5336\"/>\n</g>\n<!-- 10 -->\n<g id=\"node11\" class=\"node\">\n<title>10</title>\n<polygon fill=\"#c3c2f7\" stroke=\"#000000\" points=\"294,-306 154,-306 154,-223 294,-223 294,-306\"/>\n<text text-anchor=\"middle\" x=\"224\" y=\"-290.8\" font-family=\"Times,serif\" font-size=\"14.00\" fill=\"#000000\">color_Flower &lt;= 0.5</text>\n<text text-anchor=\"middle\" x=\"224\" y=\"-275.8\" font-family=\"Times,serif\" font-size=\"14.00\" fill=\"#000000\">gini = 0.678</text>\n<text text-anchor=\"middle\" x=\"224\" y=\"-260.8\" font-family=\"Times,serif\" font-size=\"14.00\" fill=\"#000000\">samples = 17</text>\n<text text-anchor=\"middle\" x=\"224\" y=\"-245.8\" font-family=\"Times,serif\" font-size=\"14.00\" fill=\"#000000\">value = [2, 4, 3, 8, 0]</text>\n<text text-anchor=\"middle\" x=\"224\" y=\"-230.8\" font-family=\"Times,serif\" font-size=\"14.00\" fill=\"#000000\">class = 40&#45;50</text>\n</g>\n<!-- 9&#45;&gt;10 -->\n<g id=\"edge10\" class=\"edge\">\n<title>9&#45;&gt;10</title>\n<path fill=\"none\" stroke=\"#000000\" d=\"M281.8721,-341.8796C275.271,-333.0534 268.2371,-323.6485 261.4298,-314.5466\"/>\n<polygon fill=\"#000000\" stroke=\"#000000\" points=\"264.0528,-312.2099 255.2607,-306.2981 258.4472,-316.4024 264.0528,-312.2099\"/>\n</g>\n<!-- 13 -->\n<g id=\"node14\" class=\"node\">\n<title>13</title>\n<polygon fill=\"#cef5b5\" stroke=\"#000000\" points=\"490,-306 312,-306 312,-223 490,-223 490,-306\"/>\n<text text-anchor=\"middle\" x=\"401\" y=\"-290.8\" font-family=\"Times,serif\" font-size=\"14.00\" fill=\"#000000\">material_type_Linen &lt;= 0.5</text>\n<text text-anchor=\"middle\" x=\"401\" y=\"-275.8\" font-family=\"Times,serif\" font-size=\"14.00\" fill=\"#000000\">gini = 0.613</text>\n<text text-anchor=\"middle\" x=\"401\" y=\"-260.8\" font-family=\"Times,serif\" font-size=\"14.00\" fill=\"#000000\">samples = 46</text>\n<text text-anchor=\"middle\" x=\"401\" y=\"-245.8\" font-family=\"Times,serif\" font-size=\"14.00\" fill=\"#000000\">value = [0, 24, 11, 11, 0]</text>\n<text text-anchor=\"middle\" x=\"401\" y=\"-230.8\" font-family=\"Times,serif\" font-size=\"14.00\" fill=\"#000000\">class = 20&#45;30</text>\n</g>\n<!-- 9&#45;&gt;13 -->\n<g id=\"edge13\" class=\"edge\">\n<title>9&#45;&gt;13</title>\n<path fill=\"none\" stroke=\"#000000\" d=\"M343.7781,-341.8796C350.3051,-333.0534 357.2599,-323.6485 363.9908,-314.5466\"/>\n<polygon fill=\"#000000\" stroke=\"#000000\" points=\"366.9588,-316.4195 370.0905,-306.2981 361.3305,-312.2574 366.9588,-316.4195\"/>\n</g>\n<!-- 11 -->\n<g id=\"node12\" class=\"node\">\n<title>11</title>\n<polygon fill=\"#b8b7f6\" stroke=\"#000000\" points=\"140,-179.5 0,-179.5 0,-111.5 140,-111.5 140,-179.5\"/>\n<text text-anchor=\"middle\" x=\"70\" y=\"-164.3\" font-family=\"Times,serif\" font-size=\"14.00\" fill=\"#000000\">gini = 0.622</text>\n<text text-anchor=\"middle\" x=\"70\" y=\"-149.3\" font-family=\"Times,serif\" font-size=\"14.00\" fill=\"#000000\">samples = 15</text>\n<text text-anchor=\"middle\" x=\"70\" y=\"-134.3\" font-family=\"Times,serif\" font-size=\"14.00\" fill=\"#000000\">value = [2, 4, 1, 8, 0]</text>\n<text text-anchor=\"middle\" x=\"70\" y=\"-119.3\" font-family=\"Times,serif\" font-size=\"14.00\" fill=\"#000000\">class = 40&#45;50</text>\n</g>\n<!-- 10&#45;&gt;11 -->\n<g id=\"edge11\" class=\"edge\">\n<title>10&#45;&gt;11</title>\n<path fill=\"none\" stroke=\"#000000\" d=\"M170.1383,-222.8796C154.7696,-211.0038 138.0453,-198.0804 122.7441,-186.2568\"/>\n<polygon fill=\"#000000\" stroke=\"#000000\" points=\"124.4605,-183.1599 114.4076,-179.8149 120.1804,-188.699 124.4605,-183.1599\"/>\n</g>\n<!-- 12 -->\n<g id=\"node13\" class=\"node\">\n<title>12</title>\n<polygon fill=\"#39e5c5\" stroke=\"#000000\" points=\"298,-179.5 158,-179.5 158,-111.5 298,-111.5 298,-179.5\"/>\n<text text-anchor=\"middle\" x=\"228\" y=\"-164.3\" font-family=\"Times,serif\" font-size=\"14.00\" fill=\"#000000\">gini = 0.0</text>\n<text text-anchor=\"middle\" x=\"228\" y=\"-149.3\" font-family=\"Times,serif\" font-size=\"14.00\" fill=\"#000000\">samples = 2</text>\n<text text-anchor=\"middle\" x=\"228\" y=\"-134.3\" font-family=\"Times,serif\" font-size=\"14.00\" fill=\"#000000\">value = [0, 0, 2, 0, 0]</text>\n<text text-anchor=\"middle\" x=\"228\" y=\"-119.3\" font-family=\"Times,serif\" font-size=\"14.00\" fill=\"#000000\">class = 30&#45;40</text>\n</g>\n<!-- 10&#45;&gt;12 -->\n<g id=\"edge12\" class=\"edge\">\n<title>10&#45;&gt;12</title>\n<path fill=\"none\" stroke=\"#000000\" d=\"M225.399,-222.8796C225.7575,-212.2134 226.1445,-200.7021 226.5075,-189.9015\"/>\n<polygon fill=\"#000000\" stroke=\"#000000\" points=\"230.0085,-189.9269 226.8466,-179.8149 223.0125,-189.6917 230.0085,-189.9269\"/>\n</g>\n<!-- 14 -->\n<g id=\"node15\" class=\"node\">\n<title>14</title>\n<polygon fill=\"#cdf5b4\" stroke=\"#000000\" points=\"470.5,-179.5 323.5,-179.5 323.5,-111.5 470.5,-111.5 470.5,-179.5\"/>\n<text text-anchor=\"middle\" x=\"397\" y=\"-164.3\" font-family=\"Times,serif\" font-size=\"14.00\" fill=\"#000000\">gini = 0.571</text>\n<text text-anchor=\"middle\" x=\"397\" y=\"-149.3\" font-family=\"Times,serif\" font-size=\"14.00\" fill=\"#000000\">samples = 30</text>\n<text text-anchor=\"middle\" x=\"397\" y=\"-134.3\" font-family=\"Times,serif\" font-size=\"14.00\" fill=\"#000000\">value = [0, 17, 9, 4, 0]</text>\n<text text-anchor=\"middle\" x=\"397\" y=\"-119.3\" font-family=\"Times,serif\" font-size=\"14.00\" fill=\"#000000\">class = 20&#45;30</text>\n</g>\n<!-- 13&#45;&gt;14 -->\n<g id=\"edge14\" class=\"edge\">\n<title>13&#45;&gt;14</title>\n<path fill=\"none\" stroke=\"#000000\" d=\"M399.601,-222.8796C399.2425,-212.2134 398.8555,-200.7021 398.4925,-189.9015\"/>\n<polygon fill=\"#000000\" stroke=\"#000000\" points=\"401.9875,-189.6917 398.1534,-179.8149 394.9915,-189.9269 401.9875,-189.6917\"/>\n</g>\n<!-- 15 -->\n<g id=\"node16\" class=\"node\">\n<title>15</title>\n<polygon fill=\"#ffffff\" stroke=\"#000000\" points=\"629,-187 489,-187 489,-104 629,-104 629,-187\"/>\n<text text-anchor=\"middle\" x=\"559\" y=\"-171.8\" font-family=\"Times,serif\" font-size=\"14.00\" fill=\"#000000\">price &lt;= 1325.0</text>\n<text text-anchor=\"middle\" x=\"559\" y=\"-156.8\" font-family=\"Times,serif\" font-size=\"14.00\" fill=\"#000000\">gini = 0.602</text>\n<text text-anchor=\"middle\" x=\"559\" y=\"-141.8\" font-family=\"Times,serif\" font-size=\"14.00\" fill=\"#000000\">samples = 16</text>\n<text text-anchor=\"middle\" x=\"559\" y=\"-126.8\" font-family=\"Times,serif\" font-size=\"14.00\" fill=\"#000000\">value = [0, 7, 2, 7, 0]</text>\n<text text-anchor=\"middle\" x=\"559\" y=\"-111.8\" font-family=\"Times,serif\" font-size=\"14.00\" fill=\"#000000\">class = 20&#45;30</text>\n</g>\n<!-- 13&#45;&gt;15 -->\n<g id=\"edge15\" class=\"edge\">\n<title>13&#45;&gt;15</title>\n<path fill=\"none\" stroke=\"#000000\" d=\"M456.2607,-222.8796C469.0099,-213.2774 482.6683,-202.9903 495.7291,-193.1534\"/>\n<polygon fill=\"#000000\" stroke=\"#000000\" points=\"497.8883,-195.9089 503.7705,-187.0969 493.6769,-190.3174 497.8883,-195.9089\"/>\n</g>\n<!-- 16 -->\n<g id=\"node17\" class=\"node\">\n<title>16</title>\n<polygon fill=\"#c4f3a7\" stroke=\"#000000\" points=\"550,-68 410,-68 410,0 550,0 550,-68\"/>\n<text text-anchor=\"middle\" x=\"480\" y=\"-52.8\" font-family=\"Times,serif\" font-size=\"14.00\" fill=\"#000000\">gini = 0.569</text>\n<text text-anchor=\"middle\" x=\"480\" y=\"-37.8\" font-family=\"Times,serif\" font-size=\"14.00\" fill=\"#000000\">samples = 12</text>\n<text text-anchor=\"middle\" x=\"480\" y=\"-22.8\" font-family=\"Times,serif\" font-size=\"14.00\" fill=\"#000000\">value = [0, 7, 2, 3, 0]</text>\n<text text-anchor=\"middle\" x=\"480\" y=\"-7.8\" font-family=\"Times,serif\" font-size=\"14.00\" fill=\"#000000\">class = 20&#45;30</text>\n</g>\n<!-- 15&#45;&gt;16 -->\n<g id=\"edge16\" class=\"edge\">\n<title>15&#45;&gt;16</title>\n<path fill=\"none\" stroke=\"#000000\" d=\"M529.5833,-103.9815C523.2669,-95.0666 516.5818,-85.6313 510.2349,-76.6734\"/>\n<polygon fill=\"#000000\" stroke=\"#000000\" points=\"512.9136,-74.3998 504.2765,-68.2637 507.2019,-78.4466 512.9136,-74.3998\"/>\n</g>\n<!-- 17 -->\n<g id=\"node18\" class=\"node\">\n<title>17</title>\n<polygon fill=\"#3c39e5\" stroke=\"#000000\" points=\"708,-68 568,-68 568,0 708,0 708,-68\"/>\n<text text-anchor=\"middle\" x=\"638\" y=\"-52.8\" font-family=\"Times,serif\" font-size=\"14.00\" fill=\"#000000\">gini = 0.0</text>\n<text text-anchor=\"middle\" x=\"638\" y=\"-37.8\" font-family=\"Times,serif\" font-size=\"14.00\" fill=\"#000000\">samples = 4</text>\n<text text-anchor=\"middle\" x=\"638\" y=\"-22.8\" font-family=\"Times,serif\" font-size=\"14.00\" fill=\"#000000\">value = [0, 0, 0, 4, 0]</text>\n<text text-anchor=\"middle\" x=\"638\" y=\"-7.8\" font-family=\"Times,serif\" font-size=\"14.00\" fill=\"#000000\">class = 40&#45;50</text>\n</g>\n<!-- 15&#45;&gt;17 -->\n<g id=\"edge17\" class=\"edge\">\n<title>15&#45;&gt;17</title>\n<path fill=\"none\" stroke=\"#000000\" d=\"M588.4167,-103.9815C594.7331,-95.0666 601.4182,-85.6313 607.7651,-76.6734\"/>\n<polygon fill=\"#000000\" stroke=\"#000000\" points=\"610.7981,-78.4466 613.7235,-68.2637 605.0864,-74.3998 610.7981,-78.4466\"/>\n</g>\n<!-- 19 -->\n<g id=\"node20\" class=\"node\">\n<title>19</title>\n<polygon fill=\"#7ee63e\" stroke=\"#000000\" points=\"577.5,-417.5 430.5,-417.5 430.5,-349.5 577.5,-349.5 577.5,-417.5\"/>\n<text text-anchor=\"middle\" x=\"504\" y=\"-402.3\" font-family=\"Times,serif\" font-size=\"14.00\" fill=\"#000000\">gini = 0.05</text>\n<text text-anchor=\"middle\" x=\"504\" y=\"-387.3\" font-family=\"Times,serif\" font-size=\"14.00\" fill=\"#000000\">samples = 39</text>\n<text text-anchor=\"middle\" x=\"504\" y=\"-372.3\" font-family=\"Times,serif\" font-size=\"14.00\" fill=\"#000000\">value = [0, 38, 1, 0, 0]</text>\n<text text-anchor=\"middle\" x=\"504\" y=\"-357.3\" font-family=\"Times,serif\" font-size=\"14.00\" fill=\"#000000\">class = 20&#45;30</text>\n</g>\n<!-- 18&#45;&gt;19 -->\n<g id=\"edge19\" class=\"edge\">\n<title>18&#45;&gt;19</title>\n<path fill=\"none\" stroke=\"#000000\" d=\"M509.8522,-460.8796C509.0455,-450.2134 508.1749,-438.7021 507.3581,-427.9015\"/>\n<polygon fill=\"#000000\" stroke=\"#000000\" points=\"510.8395,-427.5225 506.5952,-417.8149 503.8595,-428.0504 510.8395,-427.5225\"/>\n</g>\n<!-- 20 -->\n<g id=\"node21\" class=\"node\">\n<title>20</title>\n<polygon fill=\"#caf5b0\" stroke=\"#000000\" points=\"736,-417.5 596,-417.5 596,-349.5 736,-349.5 736,-417.5\"/>\n<text text-anchor=\"middle\" x=\"666\" y=\"-402.3\" font-family=\"Times,serif\" font-size=\"14.00\" fill=\"#000000\">gini = 0.571</text>\n<text text-anchor=\"middle\" x=\"666\" y=\"-387.3\" font-family=\"Times,serif\" font-size=\"14.00\" fill=\"#000000\">samples = 14</text>\n<text text-anchor=\"middle\" x=\"666\" y=\"-372.3\" font-family=\"Times,serif\" font-size=\"14.00\" fill=\"#000000\">value = [0, 8, 4, 2, 0]</text>\n<text text-anchor=\"middle\" x=\"666\" y=\"-357.3\" font-family=\"Times,serif\" font-size=\"14.00\" fill=\"#000000\">class = 20&#45;30</text>\n</g>\n<!-- 18&#45;&gt;20 -->\n<g id=\"edge20\" class=\"edge\">\n<title>18&#45;&gt;20</title>\n<path fill=\"none\" stroke=\"#000000\" d=\"M566.512,-460.8796C581.7808,-449.0038 598.3966,-436.0804 613.5984,-424.2568\"/>\n<polygon fill=\"#000000\" stroke=\"#000000\" points=\"616.1361,-426.7171 621.8808,-417.8149 611.8384,-421.1916 616.1361,-426.7171\"/>\n</g>\n<!-- 22 -->\n<g id=\"node23\" class=\"node\">\n<title>22</title>\n<polygon fill=\"#f5d1b6\" stroke=\"#000000\" points=\"848,-663 606,-663 606,-580 848,-580 848,-663\"/>\n<text text-anchor=\"middle\" x=\"727\" y=\"-647.8\" font-family=\"Times,serif\" font-size=\"14.00\" fill=\"#000000\">measurement_type_Customized &lt;= 0.5</text>\n<text text-anchor=\"middle\" x=\"727\" y=\"-632.8\" font-family=\"Times,serif\" font-size=\"14.00\" fill=\"#000000\">gini = 0.677</text>\n<text text-anchor=\"middle\" x=\"727\" y=\"-617.8\" font-family=\"Times,serif\" font-size=\"14.00\" fill=\"#000000\">samples = 24</text>\n<text text-anchor=\"middle\" x=\"727\" y=\"-602.8\" font-family=\"Times,serif\" font-size=\"14.00\" fill=\"#000000\">value = [12, 5, 2, 2, 3]</text>\n<text text-anchor=\"middle\" x=\"727\" y=\"-587.8\" font-family=\"Times,serif\" font-size=\"14.00\" fill=\"#000000\">class = 50&#45;60</text>\n</g>\n<!-- 21&#45;&gt;22 -->\n<g id=\"edge22\" class=\"edge\">\n<title>21&#45;&gt;22</title>\n<path fill=\"none\" stroke=\"#000000\" d=\"M740.005,-698.8796C738.6124,-690.5938 737.1341,-681.798 735.6927,-673.2216\"/>\n<polygon fill=\"#000000\" stroke=\"#000000\" points=\"739.134,-672.5796 734.0249,-663.2981 732.2308,-673.7399 739.134,-672.5796\"/>\n</g>\n<!-- 25 -->\n<g id=\"node26\" class=\"node\">\n<title>25</title>\n<polygon fill=\"#9cf2e2\" stroke=\"#000000\" points=\"1006,-655.5 866,-655.5 866,-587.5 1006,-587.5 1006,-655.5\"/>\n<text text-anchor=\"middle\" x=\"936\" y=\"-640.3\" font-family=\"Times,serif\" font-size=\"14.00\" fill=\"#000000\">gini = 0.444</text>\n<text text-anchor=\"middle\" x=\"936\" y=\"-625.3\" font-family=\"Times,serif\" font-size=\"14.00\" fill=\"#000000\">samples = 3</text>\n<text text-anchor=\"middle\" x=\"936\" y=\"-610.3\" font-family=\"Times,serif\" font-size=\"14.00\" fill=\"#000000\">value = [0, 0, 2, 0, 1]</text>\n<text text-anchor=\"middle\" x=\"936\" y=\"-595.3\" font-family=\"Times,serif\" font-size=\"14.00\" fill=\"#000000\">class = 30&#45;40</text>\n</g>\n<!-- 21&#45;&gt;25 -->\n<g id=\"edge25\" class=\"edge\">\n<title>21&#45;&gt;25</title>\n<path fill=\"none\" stroke=\"#000000\" d=\"M813.103,-698.8796C832.5808,-686.6158 853.8329,-673.2348 873.1035,-661.1015\"/>\n<polygon fill=\"#000000\" stroke=\"#000000\" points=\"875.2071,-663.913 881.8046,-655.623 871.4774,-657.9894 875.2071,-663.913\"/>\n</g>\n<!-- 23 -->\n<g id=\"node24\" class=\"node\">\n<title>23</title>\n<polygon fill=\"#e5fad7\" stroke=\"#000000\" points=\"792,-536.5 652,-536.5 652,-468.5 792,-468.5 792,-536.5\"/>\n<text text-anchor=\"middle\" x=\"722\" y=\"-521.3\" font-family=\"Times,serif\" font-size=\"14.00\" fill=\"#000000\">gini = 0.694</text>\n<text text-anchor=\"middle\" x=\"722\" y=\"-506.3\" font-family=\"Times,serif\" font-size=\"14.00\" fill=\"#000000\">samples = 7</text>\n<text text-anchor=\"middle\" x=\"722\" y=\"-491.3\" font-family=\"Times,serif\" font-size=\"14.00\" fill=\"#000000\">value = [1, 3, 2, 1, 0]</text>\n<text text-anchor=\"middle\" x=\"722\" y=\"-476.3\" font-family=\"Times,serif\" font-size=\"14.00\" fill=\"#000000\">class = 20&#45;30</text>\n</g>\n<!-- 22&#45;&gt;23 -->\n<g id=\"edge23\" class=\"edge\">\n<title>22&#45;&gt;23</title>\n<path fill=\"none\" stroke=\"#000000\" d=\"M725.2512,-579.8796C724.8031,-569.2134 724.3194,-557.7021 723.8656,-546.9015\"/>\n<polygon fill=\"#000000\" stroke=\"#000000\" points=\"727.3586,-546.6592 723.4418,-536.8149 720.3648,-546.9531 727.3586,-546.6592\"/>\n</g>\n<!-- 24 -->\n<g id=\"node25\" class=\"node\">\n<title>24</title>\n<polygon fill=\"#f0b78e\" stroke=\"#000000\" points=\"956,-536.5 810,-536.5 810,-468.5 956,-468.5 956,-536.5\"/>\n<text text-anchor=\"middle\" x=\"883\" y=\"-521.3\" font-family=\"Times,serif\" font-size=\"14.00\" fill=\"#000000\">gini = 0.533</text>\n<text text-anchor=\"middle\" x=\"883\" y=\"-506.3\" font-family=\"Times,serif\" font-size=\"14.00\" fill=\"#000000\">samples = 17</text>\n<text text-anchor=\"middle\" x=\"883\" y=\"-491.3\" font-family=\"Times,serif\" font-size=\"14.00\" fill=\"#000000\">value = [11, 2, 0, 1, 3]</text>\n<text text-anchor=\"middle\" x=\"883\" y=\"-476.3\" font-family=\"Times,serif\" font-size=\"14.00\" fill=\"#000000\">class = 50&#45;60</text>\n</g>\n<!-- 22&#45;&gt;24 -->\n<g id=\"edge24\" class=\"edge\">\n<title>22&#45;&gt;24</title>\n<path fill=\"none\" stroke=\"#000000\" d=\"M781.5612,-579.8796C797.3484,-567.8368 814.5479,-554.7167 830.2241,-542.7586\"/>\n<polygon fill=\"#000000\" stroke=\"#000000\" points=\"832.4392,-545.4709 838.2673,-536.623 828.1937,-539.9053 832.4392,-545.4709\"/>\n</g>\n<!-- 28 -->\n<g id=\"node29\" class=\"node\">\n<title>28</title>\n<polygon fill=\"#f1ba93\" stroke=\"#000000\" points=\"1292.5,-901 1145.5,-901 1145.5,-818 1292.5,-818 1292.5,-901\"/>\n<text text-anchor=\"middle\" x=\"1219\" y=\"-885.8\" font-family=\"Times,serif\" font-size=\"14.00\" fill=\"#000000\">price &lt;= 1635.0</text>\n<text text-anchor=\"middle\" x=\"1219\" y=\"-870.8\" font-family=\"Times,serif\" font-size=\"14.00\" fill=\"#000000\">gini = 0.59</text>\n<text text-anchor=\"middle\" x=\"1219\" y=\"-855.8\" font-family=\"Times,serif\" font-size=\"14.00\" fill=\"#000000\">samples = 51</text>\n<text text-anchor=\"middle\" x=\"1219\" y=\"-840.8\" font-family=\"Times,serif\" font-size=\"14.00\" fill=\"#000000\">value = [31, 7, 5, 4, 4]</text>\n<text text-anchor=\"middle\" x=\"1219\" y=\"-825.8\" font-family=\"Times,serif\" font-size=\"14.00\" fill=\"#000000\">class = 50&#45;60</text>\n</g>\n<!-- 27&#45;&gt;28 -->\n<g id=\"edge28\" class=\"edge\">\n<title>27&#45;&gt;28</title>\n<path fill=\"none\" stroke=\"#000000\" d=\"M1219,-936.8796C1219,-928.6838 1219,-919.9891 1219,-911.5013\"/>\n<polygon fill=\"#000000\" stroke=\"#000000\" points=\"1222.5001,-911.298 1219,-901.2981 1215.5001,-911.2981 1222.5001,-911.298\"/>\n</g>\n<!-- 37 -->\n<g id=\"node38\" class=\"node\">\n<title>37</title>\n<polygon fill=\"#e8fadd\" stroke=\"#000000\" points=\"1465.5,-893.5 1310.5,-893.5 1310.5,-825.5 1465.5,-825.5 1465.5,-893.5\"/>\n<text text-anchor=\"middle\" x=\"1388\" y=\"-878.3\" font-family=\"Times,serif\" font-size=\"14.00\" fill=\"#000000\">gini = 0.696</text>\n<text text-anchor=\"middle\" x=\"1388\" y=\"-863.3\" font-family=\"Times,serif\" font-size=\"14.00\" fill=\"#000000\">samples = 33</text>\n<text text-anchor=\"middle\" x=\"1388\" y=\"-848.3\" font-family=\"Times,serif\" font-size=\"14.00\" fill=\"#000000\">value = [1, 14, 10, 5, 3]</text>\n<text text-anchor=\"middle\" x=\"1388\" y=\"-833.3\" font-family=\"Times,serif\" font-size=\"14.00\" fill=\"#000000\">class = 20&#45;30</text>\n</g>\n<!-- 27&#45;&gt;37 -->\n<g id=\"edge37\" class=\"edge\">\n<title>27&#45;&gt;37</title>\n<path fill=\"none\" stroke=\"#000000\" d=\"M1278.108,-936.8796C1295.3677,-924.7263 1314.1856,-911.4759 1331.293,-899.4297\"/>\n<polygon fill=\"#000000\" stroke=\"#000000\" points=\"1333.3782,-902.2421 1339.5396,-893.623 1329.3481,-896.5187 1333.3782,-902.2421\"/>\n</g>\n<!-- 29 -->\n<g id=\"node30\" class=\"node\">\n<title>29</title>\n<polygon fill=\"#eb9f69\" stroke=\"#000000\" points=\"1292.5,-782 1145.5,-782 1145.5,-699 1292.5,-699 1292.5,-782\"/>\n<text text-anchor=\"middle\" x=\"1219\" y=\"-766.8\" font-family=\"Times,serif\" font-size=\"14.00\" fill=\"#000000\">price &lt;= 1460.0</text>\n<text text-anchor=\"middle\" x=\"1219\" y=\"-751.8\" font-family=\"Times,serif\" font-size=\"14.00\" fill=\"#000000\">gini = 0.387</text>\n<text text-anchor=\"middle\" x=\"1219\" y=\"-736.8\" font-family=\"Times,serif\" font-size=\"14.00\" fill=\"#000000\">samples = 31</text>\n<text text-anchor=\"middle\" x=\"1219\" y=\"-721.8\" font-family=\"Times,serif\" font-size=\"14.00\" fill=\"#000000\">value = [24, 2, 2, 2, 1]</text>\n<text text-anchor=\"middle\" x=\"1219\" y=\"-706.8\" font-family=\"Times,serif\" font-size=\"14.00\" fill=\"#000000\">class = 50&#45;60</text>\n</g>\n<!-- 28&#45;&gt;29 -->\n<g id=\"edge29\" class=\"edge\">\n<title>28&#45;&gt;29</title>\n<path fill=\"none\" stroke=\"#000000\" d=\"M1219,-817.8796C1219,-809.6838 1219,-800.9891 1219,-792.5013\"/>\n<polygon fill=\"#000000\" stroke=\"#000000\" points=\"1222.5001,-792.298 1219,-782.2981 1215.5001,-792.2981 1222.5001,-792.298\"/>\n</g>\n<!-- 34 -->\n<g id=\"node35\" class=\"node\">\n<title>34</title>\n<polygon fill=\"#fceee5\" stroke=\"#000000\" points=\"1509.5,-782 1350.5,-782 1350.5,-699 1509.5,-699 1509.5,-782\"/>\n<text text-anchor=\"middle\" x=\"1430\" y=\"-766.8\" font-family=\"Times,serif\" font-size=\"14.00\" fill=\"#000000\">discount_amount &lt;= 5.0</text>\n<text text-anchor=\"middle\" x=\"1430\" y=\"-751.8\" font-family=\"Times,serif\" font-size=\"14.00\" fill=\"#000000\">gini = 0.76</text>\n<text text-anchor=\"middle\" x=\"1430\" y=\"-736.8\" font-family=\"Times,serif\" font-size=\"14.00\" fill=\"#000000\">samples = 20</text>\n<text text-anchor=\"middle\" x=\"1430\" y=\"-721.8\" font-family=\"Times,serif\" font-size=\"14.00\" fill=\"#000000\">value = [7, 5, 3, 2, 3]</text>\n<text text-anchor=\"middle\" x=\"1430\" y=\"-706.8\" font-family=\"Times,serif\" font-size=\"14.00\" fill=\"#000000\">class = 50&#45;60</text>\n</g>\n<!-- 28&#45;&gt;34 -->\n<g id=\"edge34\" class=\"edge\">\n<title>28&#45;&gt;34</title>\n<path fill=\"none\" stroke=\"#000000\" d=\"M1292.5014,-818.0466C1310.2858,-808.0166 1329.4101,-797.2308 1347.5749,-786.9862\"/>\n<polygon fill=\"#000000\" stroke=\"#000000\" points=\"1349.4141,-789.9673 1356.405,-782.0062 1345.9753,-783.8701 1349.4141,-789.9673\"/>\n</g>\n<!-- 30 -->\n<g id=\"node31\" class=\"node\">\n<title>30</title>\n<polygon fill=\"#e58139\" stroke=\"#000000\" points=\"1170,-655.5 1024,-655.5 1024,-587.5 1170,-587.5 1170,-655.5\"/>\n<text text-anchor=\"middle\" x=\"1097\" y=\"-640.3\" font-family=\"Times,serif\" font-size=\"14.00\" fill=\"#000000\">gini = 0.0</text>\n<text text-anchor=\"middle\" x=\"1097\" y=\"-625.3\" font-family=\"Times,serif\" font-size=\"14.00\" fill=\"#000000\">samples = 11</text>\n<text text-anchor=\"middle\" x=\"1097\" y=\"-610.3\" font-family=\"Times,serif\" font-size=\"14.00\" fill=\"#000000\">value = [11, 0, 0, 0, 0]</text>\n<text text-anchor=\"middle\" x=\"1097\" y=\"-595.3\" font-family=\"Times,serif\" font-size=\"14.00\" fill=\"#000000\">class = 50&#45;60</text>\n</g>\n<!-- 29&#45;&gt;30 -->\n<g id=\"edge30\" class=\"edge\">\n<title>29&#45;&gt;30</title>\n<path fill=\"none\" stroke=\"#000000\" d=\"M1176.3303,-698.8796C1164.3806,-687.2237 1151.3963,-674.5587 1139.4589,-662.9148\"/>\n<polygon fill=\"#000000\" stroke=\"#000000\" points=\"1141.7825,-660.292 1132.18,-655.8149 1136.8947,-665.303 1141.7825,-660.292\"/>\n</g>\n<!-- 31 -->\n<g id=\"node32\" class=\"node\">\n<title>31</title>\n<polygon fill=\"#efb286\" stroke=\"#000000\" points=\"1341.5,-663 1188.5,-663 1188.5,-580 1341.5,-580 1341.5,-663\"/>\n<text text-anchor=\"middle\" x=\"1265\" y=\"-647.8\" font-family=\"Times,serif\" font-size=\"14.00\" fill=\"#000000\">is_discount_NO &lt;= 0.5</text>\n<text text-anchor=\"middle\" x=\"1265\" y=\"-632.8\" font-family=\"Times,serif\" font-size=\"14.00\" fill=\"#000000\">gini = 0.545</text>\n<text text-anchor=\"middle\" x=\"1265\" y=\"-617.8\" font-family=\"Times,serif\" font-size=\"14.00\" fill=\"#000000\">samples = 20</text>\n<text text-anchor=\"middle\" x=\"1265\" y=\"-602.8\" font-family=\"Times,serif\" font-size=\"14.00\" fill=\"#000000\">value = [13, 2, 2, 2, 1]</text>\n<text text-anchor=\"middle\" x=\"1265\" y=\"-587.8\" font-family=\"Times,serif\" font-size=\"14.00\" fill=\"#000000\">class = 50&#45;60</text>\n</g>\n<!-- 29&#45;&gt;31 -->\n<g id=\"edge31\" class=\"edge\">\n<title>29&#45;&gt;31</title>\n<path fill=\"none\" stroke=\"#000000\" d=\"M1235.0886,-698.8796C1238.3611,-690.4136 1241.8395,-681.4153 1245.2229,-672.6626\"/>\n<polygon fill=\"#000000\" stroke=\"#000000\" points=\"1248.5017,-673.8874 1248.8428,-663.2981 1241.9726,-671.3635 1248.5017,-673.8874\"/>\n</g>\n<!-- 32 -->\n<g id=\"node33\" class=\"node\">\n<title>32</title>\n<polygon fill=\"#bdf6ec\" stroke=\"#000000\" points=\"1254,-536.5 1114,-536.5 1114,-468.5 1254,-468.5 1254,-536.5\"/>\n<text text-anchor=\"middle\" x=\"1184\" y=\"-521.3\" font-family=\"Times,serif\" font-size=\"14.00\" fill=\"#000000\">gini = 0.625</text>\n<text text-anchor=\"middle\" x=\"1184\" y=\"-506.3\" font-family=\"Times,serif\" font-size=\"14.00\" fill=\"#000000\">samples = 4</text>\n<text text-anchor=\"middle\" x=\"1184\" y=\"-491.3\" font-family=\"Times,serif\" font-size=\"14.00\" fill=\"#000000\">value = [0, 1, 2, 1, 0]</text>\n<text text-anchor=\"middle\" x=\"1184\" y=\"-476.3\" font-family=\"Times,serif\" font-size=\"14.00\" fill=\"#000000\">class = 30&#45;40</text>\n</g>\n<!-- 31&#45;&gt;32 -->\n<g id=\"edge32\" class=\"edge\">\n<title>31&#45;&gt;32</title>\n<path fill=\"none\" stroke=\"#000000\" d=\"M1236.6701,-579.8796C1229.0357,-568.6636 1220.7652,-556.5131 1213.0901,-545.2372\"/>\n<polygon fill=\"#000000\" stroke=\"#000000\" points=\"1215.8775,-543.1122 1207.3572,-536.8149 1210.0908,-547.0511 1215.8775,-543.1122\"/>\n</g>\n<!-- 33 -->\n<g id=\"node34\" class=\"node\">\n<title>33</title>\n<polygon fill=\"#ea9a61\" stroke=\"#000000\" points=\"1419.5,-536.5 1272.5,-536.5 1272.5,-468.5 1419.5,-468.5 1419.5,-536.5\"/>\n<text text-anchor=\"middle\" x=\"1346\" y=\"-521.3\" font-family=\"Times,serif\" font-size=\"14.00\" fill=\"#000000\">gini = 0.328</text>\n<text text-anchor=\"middle\" x=\"1346\" y=\"-506.3\" font-family=\"Times,serif\" font-size=\"14.00\" fill=\"#000000\">samples = 16</text>\n<text text-anchor=\"middle\" x=\"1346\" y=\"-491.3\" font-family=\"Times,serif\" font-size=\"14.00\" fill=\"#000000\">value = [13, 1, 0, 1, 1]</text>\n<text text-anchor=\"middle\" x=\"1346\" y=\"-476.3\" font-family=\"Times,serif\" font-size=\"14.00\" fill=\"#000000\">class = 50&#45;60</text>\n</g>\n<!-- 31&#45;&gt;33 -->\n<g id=\"edge33\" class=\"edge\">\n<title>31&#45;&gt;33</title>\n<path fill=\"none\" stroke=\"#000000\" d=\"M1293.3299,-579.8796C1300.9643,-568.6636 1309.2348,-556.5131 1316.9099,-545.2372\"/>\n<polygon fill=\"#000000\" stroke=\"#000000\" points=\"1319.9092,-547.0511 1322.6428,-536.8149 1314.1225,-543.1122 1319.9092,-547.0511\"/>\n</g>\n<!-- 35 -->\n<g id=\"node36\" class=\"node\">\n<title>35</title>\n<polygon fill=\"#efb388\" stroke=\"#000000\" points=\"1500,-655.5 1360,-655.5 1360,-587.5 1500,-587.5 1500,-655.5\"/>\n<text text-anchor=\"middle\" x=\"1430\" y=\"-640.3\" font-family=\"Times,serif\" font-size=\"14.00\" fill=\"#000000\">gini = 0.562</text>\n<text text-anchor=\"middle\" x=\"1430\" y=\"-625.3\" font-family=\"Times,serif\" font-size=\"14.00\" fill=\"#000000\">samples = 11</text>\n<text text-anchor=\"middle\" x=\"1430\" y=\"-610.3\" font-family=\"Times,serif\" font-size=\"14.00\" fill=\"#000000\">value = [7, 1, 1, 1, 1]</text>\n<text text-anchor=\"middle\" x=\"1430\" y=\"-595.3\" font-family=\"Times,serif\" font-size=\"14.00\" fill=\"#000000\">class = 50&#45;60</text>\n</g>\n<!-- 34&#45;&gt;35 -->\n<g id=\"edge35\" class=\"edge\">\n<title>34&#45;&gt;35</title>\n<path fill=\"none\" stroke=\"#000000\" d=\"M1430,-698.8796C1430,-688.2134 1430,-676.7021 1430,-665.9015\"/>\n<polygon fill=\"#000000\" stroke=\"#000000\" points=\"1433.5001,-665.8149 1430,-655.8149 1426.5001,-665.815 1433.5001,-665.8149\"/>\n</g>\n<!-- 36 -->\n<g id=\"node37\" class=\"node\">\n<title>36</title>\n<polygon fill=\"#d9f8c6\" stroke=\"#000000\" points=\"1658,-655.5 1518,-655.5 1518,-587.5 1658,-587.5 1658,-655.5\"/>\n<text text-anchor=\"middle\" x=\"1588\" y=\"-640.3\" font-family=\"Times,serif\" font-size=\"14.00\" fill=\"#000000\">gini = 0.691</text>\n<text text-anchor=\"middle\" x=\"1588\" y=\"-625.3\" font-family=\"Times,serif\" font-size=\"14.00\" fill=\"#000000\">samples = 9</text>\n<text text-anchor=\"middle\" x=\"1588\" y=\"-610.3\" font-family=\"Times,serif\" font-size=\"14.00\" fill=\"#000000\">value = [0, 4, 2, 1, 2]</text>\n<text text-anchor=\"middle\" x=\"1588\" y=\"-595.3\" font-family=\"Times,serif\" font-size=\"14.00\" fill=\"#000000\">class = 20&#45;30</text>\n</g>\n<!-- 34&#45;&gt;36 -->\n<g id=\"edge36\" class=\"edge\">\n<title>34&#45;&gt;36</title>\n<path fill=\"none\" stroke=\"#000000\" d=\"M1485.2607,-698.8796C1501.2503,-686.8368 1518.6703,-673.7167 1534.5474,-661.7586\"/>\n<polygon fill=\"#000000\" stroke=\"#000000\" points=\"1536.8116,-664.435 1542.6938,-655.623 1532.6002,-658.8435 1536.8116,-664.435\"/>\n</g>\n<!-- 39 -->\n<g id=\"node40\" class=\"node\">\n<title>39</title>\n<polygon fill=\"#e6843e\" stroke=\"#000000\" points=\"1474.5,-1012.5 1327.5,-1012.5 1327.5,-944.5 1474.5,-944.5 1474.5,-1012.5\"/>\n<text text-anchor=\"middle\" x=\"1401\" y=\"-997.3\" font-family=\"Times,serif\" font-size=\"14.00\" fill=\"#000000\">gini = 0.053</text>\n<text text-anchor=\"middle\" x=\"1401\" y=\"-982.3\" font-family=\"Times,serif\" font-size=\"14.00\" fill=\"#000000\">samples = 37</text>\n<text text-anchor=\"middle\" x=\"1401\" y=\"-967.3\" font-family=\"Times,serif\" font-size=\"14.00\" fill=\"#000000\">value = [36, 1, 0, 0, 0]</text>\n<text text-anchor=\"middle\" x=\"1401\" y=\"-952.3\" font-family=\"Times,serif\" font-size=\"14.00\" fill=\"#000000\">class = 50&#45;60</text>\n</g>\n<!-- 38&#45;&gt;39 -->\n<g id=\"edge39\" class=\"edge\">\n<title>38&#45;&gt;39</title>\n<path fill=\"none\" stroke=\"#000000\" d=\"M1403.601,-1055.8796C1403.2425,-1045.2134 1402.8555,-1033.7021 1402.4925,-1022.9015\"/>\n<polygon fill=\"#000000\" stroke=\"#000000\" points=\"1405.9875,-1022.6917 1402.1534,-1012.8149 1398.9915,-1022.9269 1405.9875,-1022.6917\"/>\n</g>\n<!-- 40 -->\n<g id=\"node41\" class=\"node\">\n<title>40</title>\n<polygon fill=\"#fdedf9\" stroke=\"#000000\" points=\"1739,-1020 1493,-1020 1493,-937 1739,-937 1739,-1020\"/>\n<text text-anchor=\"middle\" x=\"1616\" y=\"-1004.8\" font-family=\"Times,serif\" font-size=\"14.00\" fill=\"#000000\">measurement_type_Ready&#45;made &lt;= 0.5</text>\n<text text-anchor=\"middle\" x=\"1616\" y=\"-989.8\" font-family=\"Times,serif\" font-size=\"14.00\" fill=\"#000000\">gini = 0.749</text>\n<text text-anchor=\"middle\" x=\"1616\" y=\"-974.8\" font-family=\"Times,serif\" font-size=\"14.00\" fill=\"#000000\">samples = 30</text>\n<text text-anchor=\"middle\" x=\"1616\" y=\"-959.8\" font-family=\"Times,serif\" font-size=\"14.00\" fill=\"#000000\">value = [8, 7, 2, 3, 10]</text>\n<text text-anchor=\"middle\" x=\"1616\" y=\"-944.8\" font-family=\"Times,serif\" font-size=\"14.00\" fill=\"#000000\">class = 60&#45;70</text>\n</g>\n<!-- 38&#45;&gt;40 -->\n<g id=\"edge40\" class=\"edge\">\n<title>38&#45;&gt;40</title>\n<path fill=\"none\" stroke=\"#000000\" d=\"M1478.7976,-1055.8796C1496.4658,-1045.915 1515.4418,-1035.2129 1533.4763,-1025.0418\"/>\n<polygon fill=\"#000000\" stroke=\"#000000\" points=\"1535.2532,-1028.058 1542.2441,-1020.0969 1531.8145,-1021.9608 1535.2532,-1028.058\"/>\n</g>\n<!-- 41 -->\n<g id=\"node42\" class=\"node\">\n<title>41</title>\n<polygon fill=\"#f4ace5\" stroke=\"#000000\" points=\"1655,-893.5 1515,-893.5 1515,-825.5 1655,-825.5 1655,-893.5\"/>\n<text text-anchor=\"middle\" x=\"1585\" y=\"-878.3\" font-family=\"Times,serif\" font-size=\"14.00\" fill=\"#000000\">gini = 0.64</text>\n<text text-anchor=\"middle\" x=\"1585\" y=\"-863.3\" font-family=\"Times,serif\" font-size=\"14.00\" fill=\"#000000\">samples = 15</text>\n<text text-anchor=\"middle\" x=\"1585\" y=\"-848.3\" font-family=\"Times,serif\" font-size=\"14.00\" fill=\"#000000\">value = [3, 0, 2, 2, 8]</text>\n<text text-anchor=\"middle\" x=\"1585\" y=\"-833.3\" font-family=\"Times,serif\" font-size=\"14.00\" fill=\"#000000\">class = 60&#45;70</text>\n</g>\n<!-- 40&#45;&gt;41 -->\n<g id=\"edge41\" class=\"edge\">\n<title>40&#45;&gt;41</title>\n<path fill=\"none\" stroke=\"#000000\" d=\"M1605.1577,-936.8796C1602.3505,-926.1034 1599.3185,-914.4647 1596.4798,-903.5677\"/>\n<polygon fill=\"#000000\" stroke=\"#000000\" points=\"1599.8471,-902.6096 1593.9392,-893.8149 1593.0732,-904.3743 1599.8471,-902.6096\"/>\n</g>\n<!-- 42 -->\n<g id=\"node43\" class=\"node\">\n<title>42</title>\n<polygon fill=\"#e5fad7\" stroke=\"#000000\" points=\"1813,-893.5 1673,-893.5 1673,-825.5 1813,-825.5 1813,-893.5\"/>\n<text text-anchor=\"middle\" x=\"1743\" y=\"-878.3\" font-family=\"Times,serif\" font-size=\"14.00\" fill=\"#000000\">gini = 0.649</text>\n<text text-anchor=\"middle\" x=\"1743\" y=\"-863.3\" font-family=\"Times,serif\" font-size=\"14.00\" fill=\"#000000\">samples = 15</text>\n<text text-anchor=\"middle\" x=\"1743\" y=\"-848.3\" font-family=\"Times,serif\" font-size=\"14.00\" fill=\"#000000\">value = [5, 7, 0, 1, 2]</text>\n<text text-anchor=\"middle\" x=\"1743\" y=\"-833.3\" font-family=\"Times,serif\" font-size=\"14.00\" fill=\"#000000\">class = 20&#45;30</text>\n</g>\n<!-- 40&#45;&gt;42 -->\n<g id=\"edge42\" class=\"edge\">\n<title>40&#45;&gt;42</title>\n<path fill=\"none\" stroke=\"#000000\" d=\"M1660.4184,-936.8796C1672.8579,-925.2237 1686.3743,-912.5587 1698.801,-900.9148\"/>\n<polygon fill=\"#000000\" stroke=\"#000000\" points=\"1701.4741,-903.2065 1706.3782,-893.8149 1696.6879,-898.0985 1701.4741,-903.2065\"/>\n</g>\n</g>\n</svg>\n"
          },
          "metadata": {
            "tags": []
          },
          "execution_count": 36
        }
      ]
    },
    {
      "cell_type": "code",
      "metadata": {
        "colab": {
          "base_uri": "https://localhost:8080/",
          "height": 35
        },
        "id": "yFlWdalUklHu",
        "outputId": "882dcd28-269a-45cb-9513-52f406825848"
      },
      "source": [
        "graph.render(filename=\"dt_tree.png\")"
      ],
      "execution_count": 37,
      "outputs": [
        {
          "output_type": "execute_result",
          "data": {
            "application/vnd.google.colaboratory.intrinsic+json": {
              "type": "string"
            },
            "text/plain": [
              "'dt_tree.png.png'"
            ]
          },
          "metadata": {
            "tags": []
          },
          "execution_count": 37
        }
      ]
    }
  ]
}